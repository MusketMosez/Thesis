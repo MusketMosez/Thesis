{
 "cells": [
  {
   "cell_type": "code",
   "execution_count": 1,
   "id": "5b4ddf25",
   "metadata": {},
   "outputs": [],
   "source": [
    "### Initial design of drawing a coplanar waveguide resonator \n",
    "\n",
    "\n",
    "# automatic reloading of modules when they change\n",
    "\n",
    "%load_ext autoreload\n",
    "%autoreload 2\n"
   ]
  },
  {
   "cell_type": "code",
   "execution_count": 2,
   "id": "e45f2059",
   "metadata": {},
   "outputs": [],
   "source": [
    "# Import statements\n",
    "\n",
    "import qiskit_metal as metal\n",
    "from qiskit_metal import designs, draw\n",
    "from qiskit_metal import MetalGUI, Dict, Headings\n",
    "import pyEPR as epr\n",
    "\n",
    "from qiskit_metal.qlibrary.terminations.launchpad_wb_coupled import LaunchpadWirebondCoupled\n",
    "from qiskit_metal.qlibrary.terminations.open_to_ground import OpenToGround\n",
    "from qiskit_metal.qlibrary.terminations.short_to_ground import ShortToGround\n",
    "from qiskit_metal.qlibrary.tlines.meandered import RouteMeander\n",
    "from qiskit_metal.qlibrary.tlines.straight_path import RouteStraight"
   ]
  },
  {
   "cell_type": "code",
   "execution_count": 3,
   "id": "e522e6e2",
   "metadata": {},
   "outputs": [],
   "source": [
    "# Instantiate QDesign class and initialise user interface\n",
    "\n",
    "design = designs.DesignPlanar({}, True)\n",
    "design.chips.main.size['size_x'] = '2mm'\n",
    "design.chips.main.size['size_y'] = '2mm'\n",
    "design.chips.main.size['size_z'] = '-500um'\n",
    "design.chips.main.size['sample_holder_bottom'] = '500um'\n",
    "design.chips.main.size['sample_holder_top'] = '2000um'\n",
    "\n",
    "\n",
    "# Set hfss as renderer for design\n",
    "hfss = design.renderers.hfss"
   ]
  },
  {
   "cell_type": "code",
   "execution_count": 4,
   "id": "ee2046f6",
   "metadata": {},
   "outputs": [],
   "source": [
    "# Allow overwriting\n",
    "gui = MetalGUI(design)\n",
    "design.overwrite_enabled = True"
   ]
  },
  {
   "cell_type": "code",
   "execution_count": 5,
   "id": "548001e0",
   "metadata": {},
   "outputs": [],
   "source": [
    "# Create shorted pin and open pin for resonator\n",
    "\n",
    "otg1 = OpenToGround(design, 'open_to_ground1', options=dict(pos_x='0um', pos_y='-1.25mm',\n",
    "orientation='180'))\n",
    "stg = ShortToGround(design, 'short_to_ground', options=dict(pos_x='0um', pos_y='0.5mm',\n",
    "orientation='270')) \n",
    "\n",
    "\n",
    "# Jogs to allow bending of open end of CPW\n",
    "# So far does not render in hfss\n",
    "from collections import OrderedDict\n",
    "jogs = OrderedDict()\n",
    "jogs[0] = [\"L\", '125um']\n",
    "jogs[1] = [\"R\", '100um']\n",
    "#jogs[2] = [\"L\", '100um']\n",
    "\n",
    "jogs2 = OrderedDict()\n",
    "jogs2[0] = [\"R\", '100um']\n",
    "jogs2[1] = [\"L\", '110um' ]\n",
    "\n",
    "# Create meandered resonator between shorted and opened pin\n",
    "rt_meander = RouteMeander(design, 'readout', Dict(\n",
    "        total_length='4.12 mm',\n",
    "        hfss_wire_bonds = False,\n",
    "        fillet='80 um',\n",
    "        lead = Dict(\n",
    "        start_straight='0.1mm',\n",
    "        end_straight='0mm'),\n",
    "        #start_jogged_extensions=jogs2,\n",
    "        #end_jogged_extension=jogs),\n",
    "        meander=Dict(\n",
    "        spacing = '200um'),\n",
    "        pin_inputs=Dict(\n",
    "            start_pin=Dict(component='short_to_ground', pin='short'),\n",
    "            end_pin=Dict(component='open_to_ground1', pin='open')), ))\n",
    "\n",
    "gui.rebuild()\n",
    "gui.autoscale()"
   ]
  },
  {
   "cell_type": "code",
   "execution_count": 6,
   "id": "fbc05a63",
   "metadata": {},
   "outputs": [],
   "source": [
    "hfss.open_ansys(path = 'C:\\Program Files\\AnsysEM\\AnsysEM19.3\\Win64')"
   ]
  },
  {
   "cell_type": "code",
   "execution_count": 7,
   "id": "ea593b29",
   "metadata": {},
   "outputs": [],
   "source": [
    "hfss.new_ansys_project()"
   ]
  },
  {
   "cell_type": "code",
   "execution_count": 8,
   "id": "2841c89a",
   "metadata": {
    "scrolled": true
   },
   "outputs": [
    {
     "name": "stderr",
     "output_type": "stream",
     "text": [
      "INFO 03:04PM [connect_project]: Connecting to Ansys Desktop API...\n",
      "INFO 03:04PM [load_ansys_project]: \tOpened Ansys App\n",
      "INFO 03:04PM [load_ansys_project]: \tOpened Ansys Desktop v2019.1.0\n",
      "INFO 03:04PM [load_ansys_project]: \tOpened Ansys Project\n",
      "\tFolder:    C:/Users/2254729M/Documents/Ansoft/\n",
      "\tProject:   Project7\n",
      "INFO 03:04PM [connect_design]: No active design found (or error getting active design).\n",
      "INFO 03:04PM [connect]: \t Connected to project \"Project7\". No design detected\n"
     ]
    }
   ],
   "source": [
    "hfss.connect_ansys()"
   ]
  },
  {
   "cell_type": "code",
   "execution_count": null,
   "id": "116a5df1",
   "metadata": {},
   "outputs": [],
   "source": [
    "hfss.clean_active_design()"
   ]
  },
  {
   "cell_type": "code",
   "execution_count": 9,
   "id": "fae94cd2",
   "metadata": {},
   "outputs": [
    {
     "name": "stderr",
     "output_type": "stream",
     "text": [
      "03:04PM 56s WARNING [activate_ansys_design]: The design_name=Readout was not in active project.  Designs in active project are: \n",
      "[].  A new design will be added to the project.  \n",
      "INFO 03:04PM [connect_design]: \tOpened active design\n",
      "\tDesign:    Readout [Solution type: Eigenmode]\n",
      "WARNING 03:04PM [connect_setup]: \tNo design setup detected.\n",
      "WARNING 03:04PM [connect_setup]: \tCreating eigenmode default setup.\n",
      "INFO 03:04PM [get_setup]: \tOpened setup `Setup`  (<class 'pyEPR.ansys.HfssEMSetup'>)\n"
     ]
    }
   ],
   "source": [
    "hfss.activate_ansys_design(\"Readout\", 'eigenmode')"
   ]
  },
  {
   "cell_type": "code",
   "execution_count": 10,
   "id": "e31ce6f8",
   "metadata": {},
   "outputs": [
    {
     "name": "stderr",
     "output_type": "stream",
     "text": [
      "03:05PM 06s ERROR [render_element_path]: We cannot find a writable design. \n",
      "  Either you are trying to use a Ansys design that is not empty, in which case please clear it manually or with the renderer method clean_active_design(). \n",
      "  Or you accidentally deleted the design in Ansys, in which case please create a new one.\n"
     ]
    },
    {
     "name": "stdout",
     "output_type": "stream",
     "text": [
      "com_error:  (-2147352567, 'Exception occurred.', (0, None, None, None, 0, -2147024381), None)\n"
     ]
    },
    {
     "ename": "com_error",
     "evalue": "(-2147352567, 'Exception occurred.', (0, None, None, None, 0, -2147024381), None)",
     "output_type": "error",
     "traceback": [
      "\u001b[1;31m---------------------------------------------------------------------------\u001b[0m",
      "\u001b[1;31mcom_error\u001b[0m                                 Traceback (most recent call last)",
      "\u001b[1;32m~\\AppData\\Local\\Temp/ipykernel_21984/1371534763.py\u001b[0m in \u001b[0;36m<module>\u001b[1;34m\u001b[0m\n\u001b[1;32m----> 1\u001b[1;33m \u001b[0mhfss\u001b[0m\u001b[1;33m.\u001b[0m\u001b[0mrender_design\u001b[0m\u001b[1;33m(\u001b[0m\u001b[1;33m[\u001b[0m\u001b[1;34m'short_to_ground'\u001b[0m\u001b[1;33m,\u001b[0m \u001b[1;34m'readout'\u001b[0m\u001b[1;33m,\u001b[0m \u001b[1;34m'open_to_ground1'\u001b[0m\u001b[1;33m]\u001b[0m\u001b[1;33m,\u001b[0m\u001b[1;33m[\u001b[0m\u001b[1;33m]\u001b[0m\u001b[1;33m)\u001b[0m\u001b[1;33m\u001b[0m\u001b[1;33m\u001b[0m\u001b[0m\n\u001b[0m\u001b[0;32m      2\u001b[0m \u001b[1;31m#hfss.render_design(['short_to_ground', 'readout', 'open_to_ground'], [])\u001b[0m\u001b[1;33m\u001b[0m\u001b[1;33m\u001b[0m\u001b[1;33m\u001b[0m\u001b[0m\n",
      "\u001b[1;32mc:\\qiskit-metal\\qiskit_metal\\renderers\\renderer_ansys\\hfss_renderer.py\u001b[0m in \u001b[0;36mrender_design\u001b[1;34m(self, selection, open_pins, port_list, jj_to_port, ignored_jjs, box_plus_buffer)\u001b[0m\n\u001b[0;32m    175\u001b[0m             \u001b[0mself\u001b[0m\u001b[1;33m.\u001b[0m\u001b[0mjj_to_ignore\u001b[0m \u001b[1;33m=\u001b[0m \u001b[1;33m{\u001b[0m\u001b[1;33m(\u001b[0m\u001b[0mqcomp\u001b[0m\u001b[1;33m,\u001b[0m \u001b[0mqelt\u001b[0m\u001b[1;33m)\u001b[0m \u001b[1;32mfor\u001b[0m \u001b[0mqcomp\u001b[0m\u001b[1;33m,\u001b[0m \u001b[0mqelt\u001b[0m \u001b[1;32min\u001b[0m \u001b[0mignored_jjs\u001b[0m\u001b[1;33m}\u001b[0m\u001b[1;33m\u001b[0m\u001b[1;33m\u001b[0m\u001b[0m\n\u001b[0;32m    176\u001b[0m \u001b[1;33m\u001b[0m\u001b[0m\n\u001b[1;32m--> 177\u001b[1;33m         \u001b[0mself\u001b[0m\u001b[1;33m.\u001b[0m\u001b[0mrender_tables\u001b[0m\u001b[1;33m(\u001b[0m\u001b[1;33m)\u001b[0m\u001b[1;33m\u001b[0m\u001b[1;33m\u001b[0m\u001b[0m\n\u001b[0m\u001b[0;32m    178\u001b[0m         \u001b[1;32mif\u001b[0m \u001b[0mport_list\u001b[0m\u001b[1;33m:\u001b[0m\u001b[1;33m\u001b[0m\u001b[1;33m\u001b[0m\u001b[0m\n\u001b[0;32m    179\u001b[0m             self.add_endcaps(open_pins +\n",
      "\u001b[1;32mc:\\qiskit-metal\\qiskit_metal\\renderers\\renderer_ansys\\ansys_renderer.py\u001b[0m in \u001b[0;36mrender_tables\u001b[1;34m(self, skip_junction)\u001b[0m\n\u001b[0;32m    995\u001b[0m         \u001b[1;32mfor\u001b[0m \u001b[0mtable_type\u001b[0m \u001b[1;32min\u001b[0m \u001b[0mself\u001b[0m\u001b[1;33m.\u001b[0m\u001b[0mdesign\u001b[0m\u001b[1;33m.\u001b[0m\u001b[0mqgeometry\u001b[0m\u001b[1;33m.\u001b[0m\u001b[0mget_element_types\u001b[0m\u001b[1;33m(\u001b[0m\u001b[1;33m)\u001b[0m\u001b[1;33m:\u001b[0m\u001b[1;33m\u001b[0m\u001b[1;33m\u001b[0m\u001b[0m\n\u001b[0;32m    996\u001b[0m             \u001b[1;32mif\u001b[0m \u001b[0mtable_type\u001b[0m \u001b[1;33m!=\u001b[0m \u001b[1;34m'junction'\u001b[0m \u001b[1;32mor\u001b[0m \u001b[1;32mnot\u001b[0m \u001b[0mskip_junction\u001b[0m\u001b[1;33m:\u001b[0m\u001b[1;33m\u001b[0m\u001b[1;33m\u001b[0m\u001b[0m\n\u001b[1;32m--> 997\u001b[1;33m                 \u001b[0mself\u001b[0m\u001b[1;33m.\u001b[0m\u001b[0mrender_components\u001b[0m\u001b[1;33m(\u001b[0m\u001b[0mtable_type\u001b[0m\u001b[1;33m)\u001b[0m\u001b[1;33m\u001b[0m\u001b[1;33m\u001b[0m\u001b[0m\n\u001b[0m\u001b[0;32m    998\u001b[0m \u001b[1;33m\u001b[0m\u001b[0m\n\u001b[0;32m    999\u001b[0m     \u001b[1;32mdef\u001b[0m \u001b[0mrender_components\u001b[0m\u001b[1;33m(\u001b[0m\u001b[0mself\u001b[0m\u001b[1;33m,\u001b[0m \u001b[0mtable_type\u001b[0m\u001b[1;33m:\u001b[0m \u001b[0mstr\u001b[0m\u001b[1;33m)\u001b[0m\u001b[1;33m:\u001b[0m\u001b[1;33m\u001b[0m\u001b[1;33m\u001b[0m\u001b[0m\n",
      "\u001b[1;32mc:\\qiskit-metal\\qiskit_metal\\renderers\\renderer_ansys\\ansys_renderer.py\u001b[0m in \u001b[0;36mrender_components\u001b[1;34m(self, table_type)\u001b[0m\n\u001b[0;32m   1011\u001b[0m \u001b[1;33m\u001b[0m\u001b[0m\n\u001b[0;32m   1012\u001b[0m         \u001b[1;32mfor\u001b[0m \u001b[0m_\u001b[0m\u001b[1;33m,\u001b[0m \u001b[0mqgeom\u001b[0m \u001b[1;32min\u001b[0m \u001b[0mtable\u001b[0m\u001b[1;33m.\u001b[0m\u001b[0miterrows\u001b[0m\u001b[1;33m(\u001b[0m\u001b[1;33m)\u001b[0m\u001b[1;33m:\u001b[0m\u001b[1;33m\u001b[0m\u001b[1;33m\u001b[0m\u001b[0m\n\u001b[1;32m-> 1013\u001b[1;33m             \u001b[0mself\u001b[0m\u001b[1;33m.\u001b[0m\u001b[0mrender_element\u001b[0m\u001b[1;33m(\u001b[0m\u001b[0mqgeom\u001b[0m\u001b[1;33m,\u001b[0m \u001b[0mbool\u001b[0m\u001b[1;33m(\u001b[0m\u001b[0mtable_type\u001b[0m \u001b[1;33m==\u001b[0m \u001b[1;34m'junction'\u001b[0m\u001b[1;33m)\u001b[0m\u001b[1;33m)\u001b[0m\u001b[1;33m\u001b[0m\u001b[1;33m\u001b[0m\u001b[0m\n\u001b[0m\u001b[0;32m   1014\u001b[0m \u001b[1;33m\u001b[0m\u001b[0m\n\u001b[0;32m   1015\u001b[0m         \u001b[1;32mif\u001b[0m \u001b[0mtable_type\u001b[0m \u001b[1;33m==\u001b[0m \u001b[1;34m'path'\u001b[0m\u001b[1;33m:\u001b[0m\u001b[1;33m\u001b[0m\u001b[1;33m\u001b[0m\u001b[0m\n",
      "\u001b[1;32mc:\\qiskit-metal\\qiskit_metal\\renderers\\renderer_ansys\\ansys_renderer.py\u001b[0m in \u001b[0;36mrender_element\u001b[1;34m(self, qgeom, is_junction)\u001b[0m\n\u001b[0;32m   1033\u001b[0m                 \u001b[0mself\u001b[0m\u001b[1;33m.\u001b[0m\u001b[0mrender_element_poly\u001b[0m\u001b[1;33m(\u001b[0m\u001b[0mqgeom\u001b[0m\u001b[1;33m)\u001b[0m\u001b[1;33m\u001b[0m\u001b[1;33m\u001b[0m\u001b[0m\n\u001b[0;32m   1034\u001b[0m             \u001b[1;32melif\u001b[0m \u001b[0misinstance\u001b[0m\u001b[1;33m(\u001b[0m\u001b[0mqc_shapely\u001b[0m\u001b[1;33m,\u001b[0m \u001b[0mshapely\u001b[0m\u001b[1;33m.\u001b[0m\u001b[0mgeometry\u001b[0m\u001b[1;33m.\u001b[0m\u001b[0mLineString\u001b[0m\u001b[1;33m)\u001b[0m\u001b[1;33m:\u001b[0m\u001b[1;33m\u001b[0m\u001b[1;33m\u001b[0m\u001b[0m\n\u001b[1;32m-> 1035\u001b[1;33m                 \u001b[0mself\u001b[0m\u001b[1;33m.\u001b[0m\u001b[0mrender_element_path\u001b[0m\u001b[1;33m(\u001b[0m\u001b[0mqgeom\u001b[0m\u001b[1;33m)\u001b[0m\u001b[1;33m\u001b[0m\u001b[1;33m\u001b[0m\u001b[0m\n\u001b[0m\u001b[0;32m   1036\u001b[0m \u001b[1;33m\u001b[0m\u001b[0m\n\u001b[0;32m   1037\u001b[0m     \u001b[1;32mdef\u001b[0m \u001b[0mrender_element_junction\u001b[0m\u001b[1;33m(\u001b[0m\u001b[0mself\u001b[0m\u001b[1;33m,\u001b[0m \u001b[0mqgeom\u001b[0m\u001b[1;33m:\u001b[0m \u001b[0mpd\u001b[0m\u001b[1;33m.\u001b[0m\u001b[0mSeries\u001b[0m\u001b[1;33m)\u001b[0m\u001b[1;33m:\u001b[0m\u001b[1;33m\u001b[0m\u001b[1;33m\u001b[0m\u001b[0m\n",
      "\u001b[1;32mc:\\qiskit-metal\\qiskit_metal\\renderers\\renderer_ansys\\ansys_renderer.py\u001b[0m in \u001b[0;36mrender_element_path\u001b[1;34m(self, qgeom)\u001b[0m\n\u001b[0;32m   1222\u001b[0m                         \u001b[1;34m\"the design in Ansys, in which case please create a new one.\"\u001b[0m\u001b[1;33m\u001b[0m\u001b[1;33m\u001b[0m\u001b[0m\n\u001b[0;32m   1223\u001b[0m                     )\n\u001b[1;32m-> 1224\u001b[1;33m                 \u001b[1;32mraise\u001b[0m \u001b[0merror\u001b[0m\u001b[1;33m\u001b[0m\u001b[1;33m\u001b[0m\u001b[0m\n\u001b[0m\u001b[0;32m   1225\u001b[0m \u001b[1;33m\u001b[0m\u001b[0m\n\u001b[0;32m   1226\u001b[0m         \u001b[1;32mif\u001b[0m \u001b[0mqgeom\u001b[0m\u001b[1;33m.\u001b[0m\u001b[0mchip\u001b[0m \u001b[1;32mnot\u001b[0m \u001b[1;32min\u001b[0m \u001b[0mself\u001b[0m\u001b[1;33m.\u001b[0m\u001b[0mchip_subtract_dict\u001b[0m\u001b[1;33m:\u001b[0m\u001b[1;33m\u001b[0m\u001b[1;33m\u001b[0m\u001b[0m\n",
      "\u001b[1;32mc:\\qiskit-metal\\qiskit_metal\\renderers\\renderer_ansys\\ansys_renderer.py\u001b[0m in \u001b[0;36mrender_element_path\u001b[1;34m(self, qgeom)\u001b[0m\n\u001b[0;32m   1211\u001b[0m             \u001b[1;32mimport\u001b[0m \u001b[0mpythoncom\u001b[0m\u001b[1;33m\u001b[0m\u001b[1;33m\u001b[0m\u001b[0m\n\u001b[0;32m   1212\u001b[0m             \u001b[1;32mtry\u001b[0m\u001b[1;33m:\u001b[0m\u001b[1;33m\u001b[0m\u001b[1;33m\u001b[0m\u001b[0m\n\u001b[1;32m-> 1213\u001b[1;33m                 \u001b[0mself\u001b[0m\u001b[1;33m.\u001b[0m\u001b[0mmodeler\u001b[0m\u001b[1;33m.\u001b[0m\u001b[0m_sweep_along_path\u001b[0m\u001b[1;33m(\u001b[0m\u001b[0mshortline\u001b[0m\u001b[1;33m,\u001b[0m \u001b[0mpoly_ansys\u001b[0m\u001b[1;33m)\u001b[0m\u001b[1;33m\u001b[0m\u001b[1;33m\u001b[0m\u001b[0m\n\u001b[0m\u001b[0;32m   1214\u001b[0m             \u001b[1;32mexcept\u001b[0m \u001b[0mpythoncom\u001b[0m\u001b[1;33m.\u001b[0m\u001b[0mcom_error\u001b[0m \u001b[1;32mas\u001b[0m \u001b[0merror\u001b[0m\u001b[1;33m:\u001b[0m\u001b[1;33m\u001b[0m\u001b[1;33m\u001b[0m\u001b[0m\n\u001b[0;32m   1215\u001b[0m                 \u001b[0mprint\u001b[0m\u001b[1;33m(\u001b[0m\u001b[1;34m\"com_error: \"\u001b[0m\u001b[1;33m,\u001b[0m \u001b[0merror\u001b[0m\u001b[1;33m)\u001b[0m\u001b[1;33m\u001b[0m\u001b[1;33m\u001b[0m\u001b[0m\n",
      "\u001b[1;32m~\\.conda\\envs\\qiskitmetal\\lib\\site-packages\\pyEPR\\ansys.py\u001b[0m in \u001b[0;36m_sweep_along_path\u001b[1;34m(self, to_sweep, path_obj)\u001b[0m\n\u001b[0;32m   2500\u001b[0m         \u001b[0mnew_name\u001b[0m \u001b[1;33m=\u001b[0m \u001b[0mself\u001b[0m\u001b[1;33m.\u001b[0m\u001b[0mrename_obj\u001b[0m\u001b[1;33m(\u001b[0m\u001b[0mto_sweep\u001b[0m\u001b[1;33m,\u001b[0m \u001b[0mpath_obj\u001b[0m\u001b[1;33m)\u001b[0m\u001b[1;33m\u001b[0m\u001b[1;33m\u001b[0m\u001b[0m\n\u001b[0;32m   2501\u001b[0m         \u001b[0mnames\u001b[0m \u001b[1;33m=\u001b[0m \u001b[1;33m[\u001b[0m\u001b[0mpath_obj\u001b[0m\u001b[1;33m,\u001b[0m \u001b[0mstr\u001b[0m\u001b[1;33m(\u001b[0m\u001b[0mpath_obj\u001b[0m\u001b[1;33m)\u001b[0m \u001b[1;33m+\u001b[0m \u001b[1;34m'_path'\u001b[0m\u001b[1;33m]\u001b[0m\u001b[1;33m\u001b[0m\u001b[1;33m\u001b[0m\u001b[0m\n\u001b[1;32m-> 2502\u001b[1;33m         self._modeler.SweepAlongPath(self._selections_array(*names), [\n\u001b[0m\u001b[0;32m   2503\u001b[0m             \u001b[1;34m\"NAME:PathSweepParameters\"\u001b[0m\u001b[1;33m,\u001b[0m \u001b[1;34m\"DraftAngle:=\"\u001b[0m\u001b[1;33m,\u001b[0m \u001b[1;34m\"0deg\"\u001b[0m\u001b[1;33m,\u001b[0m \u001b[1;34m\"DraftType:=\"\u001b[0m\u001b[1;33m,\u001b[0m\u001b[1;33m\u001b[0m\u001b[1;33m\u001b[0m\u001b[0m\n\u001b[0;32m   2504\u001b[0m             \u001b[1;34m\"Round\"\u001b[0m\u001b[1;33m,\u001b[0m \u001b[1;34m\"CheckFaceFaceIntersection:=\"\u001b[0m\u001b[1;33m,\u001b[0m \u001b[1;32mFalse\u001b[0m\u001b[1;33m,\u001b[0m \u001b[1;34m\"TwistAngle:=\"\u001b[0m\u001b[1;33m,\u001b[0m\u001b[1;33m\u001b[0m\u001b[1;33m\u001b[0m\u001b[0m\n",
      "\u001b[1;32m~\\.conda\\envs\\qiskitmetal\\lib\\site-packages\\win32com\\client\\dynamic.py\u001b[0m in \u001b[0;36mSweepAlongPath\u001b[1;34m(self, argSelections, argParameters)\u001b[0m\n",
      "\u001b[1;31mcom_error\u001b[0m: (-2147352567, 'Exception occurred.', (0, None, None, None, 0, -2147024381), None)"
     ]
    }
   ],
   "source": [
    "hfss.render_design(['short_to_ground', 'readout', 'open_to_ground1'],[])\n",
    "#hfss.render_design(['short_to_ground', 'readout', 'open_to_ground'], [])"
   ]
  },
  {
   "cell_type": "code",
   "execution_count": null,
   "id": "fbdc383c",
   "metadata": {},
   "outputs": [],
   "source": [
    "setup = hfss.pinfo.setup\n",
    "setup.passes = 20\n",
    "print(f\"\"\"\n",
    "Number of eigenmodes to find             = {setup.n_modes}\n",
    "Number of simulation passes              = {setup.passes}\n",
    "Convergence freq max delta percent diff  = {setup.delta_f}\n",
    "\"\"\")\n",
    "\n",
    "pinfo = hfss.pinfo\n",
    "pinfo.design.set_variable('Lj', '10 nH')\n",
    "pinfo.design.set_variable('Cj', '0 fF')\n",
    "setup.analyze()\n",
    "\n",
    "hfss.plot_convergences()"
   ]
  },
  {
   "cell_type": "code",
   "execution_count": null,
   "id": "76735736",
   "metadata": {},
   "outputs": [],
   "source": [
    "hfss.disconnect_ansys()"
   ]
  },
  {
   "cell_type": "code",
   "execution_count": null,
   "id": "cbcbc791",
   "metadata": {},
   "outputs": [],
   "source": []
  }
 ],
 "metadata": {
  "kernelspec": {
   "display_name": "Python 3 (ipykernel)",
   "language": "python",
   "name": "python3"
  },
  "language_info": {
   "codemirror_mode": {
    "name": "ipython",
    "version": 3
   },
   "file_extension": ".py",
   "mimetype": "text/x-python",
   "name": "python",
   "nbconvert_exporter": "python",
   "pygments_lexer": "ipython3",
   "version": "3.9.6"
  }
 },
 "nbformat": 4,
 "nbformat_minor": 5
}
