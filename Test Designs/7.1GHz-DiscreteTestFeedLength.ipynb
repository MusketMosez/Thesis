{
 "cells": [
  {
   "cell_type": "code",
   "execution_count": 1,
   "id": "16a07333",
   "metadata": {},
   "outputs": [],
   "source": [
    "### Initial design of drawing a coplanar waveguide resonator \n",
    "\n",
    "\n",
    "# automatic reloading of modules when they change\n",
    "\n",
    "%load_ext autoreload\n",
    "%autoreload 2\n"
   ]
  },
  {
   "cell_type": "code",
   "execution_count": 2,
   "id": "2a3768f7",
   "metadata": {},
   "outputs": [],
   "source": [
    "# Import statements\n",
    "\n",
    "import qiskit_metal as metal\n",
    "from qiskit_metal import designs, draw\n",
    "from qiskit_metal import MetalGUI, Dict, Headings\n",
    "from qiskit_metal.analyses.sweep_options.sweeping import Sweeping\n",
    "import pyEPR as epr\n",
    "\n",
    "from qiskit_metal.qlibrary.terminations.launchpad_wb import LaunchpadWirebond\n",
    "from qiskit_metal.qlibrary.terminations.open_to_ground import OpenToGround\n",
    "from qiskit_metal.qlibrary.terminations.short_to_ground import ShortToGround\n",
    "from qiskit_metal.qlibrary.tlines.meandered import RouteMeander\n",
    "from qiskit_metal.qlibrary.tlines.straight_path import RouteStraight\n",
    "from qiskit_metal.qlibrary.couplers.coupled_line_tee import CoupledLineTee"
   ]
  },
  {
   "cell_type": "code",
   "execution_count": 3,
   "id": "0ab0b6df",
   "metadata": {},
   "outputs": [],
   "source": [
    "# To create plots after geting solution data.\n",
    "import matplotlib.pyplot as plt\n",
    "import numpy as np"
   ]
  },
  {
   "cell_type": "code",
   "execution_count": 4,
   "id": "3646d725",
   "metadata": {},
   "outputs": [],
   "source": [
    "# Instantiate QDesign class and initialise user interface\n",
    "\n",
    "design = designs.DesignPlanar({}, True)\n",
    "design.chips.main.size['size_x'] = '2mm'\n",
    "design.chips.main.size['size_y'] = '2mm'\n",
    "#design.chips.main.size['size_z'] = '-500um'\n",
    "#design.chips.main.size['sample_holder_bottom'] = '500um'\n",
    "#design.chips.main.size['sample_holder_top'] = '2000um'\n",
    "\n",
    "# Set hfss as renderer for design\n",
    "hfss = design.renderers.hfss\n",
    "gui = MetalGUI(design)\n",
    "# Allow overwriting\n",
    "design.overwrite_enabled = True"
   ]
  },
  {
   "cell_type": "code",
   "execution_count": 6,
   "id": "f7cb0672",
   "metadata": {},
   "outputs": [],
   "source": [
    "#Add hanger of capacitively coupled transmission lines\n",
    "TQ1 = CoupledLineTee(design, 'TQ1', options=dict(pos_x='0mm',\n",
    "                     pos_y='0.9mm',\n",
    "                     coupling_length='200um',\n",
    "                     coupling_space='1um'))\n",
    "\n",
    "gui.rebuild()\n",
    "gui.autoscale()"
   ]
  },
  {
   "cell_type": "code",
   "execution_count": null,
   "id": "52a87a63",
   "metadata": {},
   "outputs": [],
   "source": [
    "stg = ShortToGround(design, 'short_to_ground', options=dict(pos_x='0um', pos_y='0.5mm',\n",
    "orientation='270')) \n"
   ]
  },
  {
   "cell_type": "code",
   "execution_count": 8,
   "id": "07cd0c75",
   "metadata": {},
   "outputs": [],
   "source": [
    "# Create shorted pin and open pin for resonator\n",
    "ops = dict(fillet='90um')\n",
    "otg3 = OpenToGround(design, 'open_to_ground3', options=dict(pos_x='0.2mm', pos_y='-0.8mm',\n",
    "orientation='270'))\n",
    "\n",
    "route_options= Dict(total_length='4.18mm',\n",
    "                   hfss_wire_bonds=False,\n",
    "                   pin_inputs=Dict(start_pin=Dict(component='TQ1',\n",
    "                                                 pin='second_end'),\n",
    "                                  end_pin=Dict(component=otg3.name, pin='open')),\n",
    "                   lead=Dict(start_straight='0.1mm'),\n",
    "                   **ops)\n",
    "\n",
    "# Create meandered resonator between shorted and opened pin\n",
    "rt_meander = RouteMeander(design, 'readout', options=route_options)\n",
    "\n",
    "gui.rebuild()\n",
    "gui.autoscale()\n"
   ]
  },
  {
   "cell_type": "code",
   "execution_count": 7,
   "id": "8bbe105e",
   "metadata": {},
   "outputs": [],
   "source": [
    "#Setup the launchpad location and orientation.\n",
    "#launch_options1 = dict(pos_x='1.25mm', pos_y='0.9mm', orientation='180')\n",
    "\n",
    "#lp = LaunchpadWirebond(design, 'P4_Q', options = launch_options1)\n",
    "\n",
    "otg = OpenToGround(design, 'open_to_ground1', options=dict(pos_x='1.25mm', pos_y='0.9mm',\n",
    "orientation='0'))\n",
    "\n",
    "\n",
    "\n",
    "#Setup the OpenToGround location and orientation.\n",
    "#launch_options2 = dict(pos_x='-1.25mm',  pos_y='0.9mm', orientation='0')\n",
    "\n",
    "#lp2 = LaunchpadWirebond(design, 'P5_Q', options = launch_options2)\n",
    "\n",
    "\n",
    "otg2 = OpenToGround(design, 'open_to_ground', options=dict(pos_x='-1.25mm', pos_y='0.9mm',\n",
    "orientation='180'))\n",
    "\n",
    "#After the two QComponents are added to design, connect them with a RouteMeander.\n",
    "meander_options_left = Dict(\n",
    "        pin_inputs=Dict(\n",
    "            start_pin=Dict(component='TQ1', pin='prime_start'),\n",
    "            end_pin=Dict(component=otg2.name, pin='open')), )\n",
    "\n",
    "meander_options_right = Dict(\n",
    "        pin_inputs=Dict(\n",
    "            start_pin=Dict(component='TQ1', pin='prime_end'),\n",
    "            end_pin=Dict(component=otg.name, pin='open')), )\n",
    "\n",
    "\n",
    "meander_left = RouteStraight(design, 'cpw_left',options=meander_options_left)\n",
    "meander_right = RouteStraight(design, 'cpw_right',options=meander_options_right)\n",
    "\n",
    "gui.rebuild()\n",
    "gui.autoscale()"
   ]
  },
  {
   "cell_type": "code",
   "execution_count": 9,
   "id": "a80ae650",
   "metadata": {},
   "outputs": [],
   "source": [
    "hfss.open_ansys(path = 'C:\\Program Files\\AnsysEM\\AnsysEM19.3\\Win64')"
   ]
  },
  {
   "cell_type": "code",
   "execution_count": 10,
   "id": "c2f71070",
   "metadata": {},
   "outputs": [
    {
     "name": "stderr",
     "output_type": "stream",
     "text": [
      "INFO 06:27PM [connect_project]: Connecting to Ansys Desktop API...\n",
      "INFO 06:27PM [load_ansys_project]: \tOpened Ansys App\n",
      "INFO 06:27PM [load_ansys_project]: \tOpened Ansys Desktop v2019.1.0\n",
      "INFO 06:27PM [load_ansys_project]: \tOpened Ansys Project\n",
      "\tFolder:    C:/Users/2254729M/Documents/Ansoft/\n",
      "\tProject:   Project6\n",
      "INFO 06:27PM [connect_design]: No active design found (or error getting active design).\n",
      "INFO 06:27PM [connect]: \t Connected to project \"Project6\". No design detected\n"
     ]
    }
   ],
   "source": [
    "hfss.connect_ansys()"
   ]
  },
  {
   "cell_type": "code",
   "execution_count": null,
   "id": "def5e4bf",
   "metadata": {},
   "outputs": [],
   "source": [
    "##############################################\n",
    "# BELOW cells are for drivenmodal simulation #\n",
    "##############################################"
   ]
  },
  {
   "cell_type": "code",
   "execution_count": 9,
   "id": "04da83bc",
   "metadata": {},
   "outputs": [],
   "source": [
    "sweep = Sweeping(design)"
   ]
  },
  {
   "cell_type": "code",
   "execution_count": 11,
   "id": "05817364",
   "metadata": {},
   "outputs": [
    {
     "name": "stderr",
     "output_type": "stream",
     "text": [
      "06:27PM 46s WARNING [activate_drivenmodal_design]: This method is deprecated. Change your scripts to use activate_ansys_design()\n",
      "06:27PM 46s WARNING [activate_ansys_design]: The design_name=S-parameter estimation was not in active project.  Designs in active project are: \n",
      "[].  A new design will be added to the project.  \n",
      "INFO 06:27PM [connect_design]: \tOpened active design\n",
      "\tDesign:    S-parameter estimation [Solution type: DrivenModal]\n",
      "WARNING 06:27PM [connect_setup]: \tNo design setup detected.\n",
      "WARNING 06:27PM [connect_setup]: \tCreating drivenmodal default setup.\n",
      "INFO 06:27PM [get_setup]: \tOpened setup `Setup`  (<class 'pyEPR.ansys.HfssDMSetup'>)\n"
     ]
    }
   ],
   "source": [
    "hfss.activate_drivenmodal_design(\"S-parameter estimation\")"
   ]
  },
  {
   "cell_type": "code",
   "execution_count": 10,
   "id": "83c41d87",
   "metadata": {},
   "outputs": [],
   "source": [
    "hfss.options['x_buffer_width_mm'] = 0.5\n",
    "hfss.options['y_buffer_width_mm'] = 0.5"
   ]
  },
  {
   "cell_type": "code",
   "execution_count": 11,
   "id": "36cc8de0",
   "metadata": {},
   "outputs": [],
   "source": [
    "selection = [] #render everything in geometry table\n",
    "open_pins = []\n",
    "port_list = [('cpw_right', 'end', 50), ('cpw_left', 'end', 50)]\n",
    "jj_to_port = []\n",
    "ignored_jjs = []\n",
    "box_plus_buffer = True\n",
    "\n",
    "dm_render_args = Dict(selection=selection,\n",
    "                      open_pins=open_pins,\n",
    "                      port_list=port_list,\n",
    "                      jj_to_port=jj_to_port,\n",
    "                      ignored_jjs=ignored_jjs,\n",
    "                      box_plus_buffer=box_plus_buffer)\n"
   ]
  },
  {
   "cell_type": "code",
   "execution_count": null,
   "id": "ce1b21ec",
   "metadata": {},
   "outputs": [],
   "source": [
    "hfss.clean_active_design()"
   ]
  },
  {
   "cell_type": "code",
   "execution_count": 13,
   "id": "210ba35a",
   "metadata": {},
   "outputs": [],
   "source": [
    "hfss.render_design([],\n",
    "                   [],\n",
    "                  [('cpw_right', 'end', 50), ('cpw_left', 'end', 50)],\n",
    "                  #[(lp.name, 'tie', 50), (lp2.name, 'tie', 50)],\n",
    "                  [],\n",
    "                  [],\n",
    "                  box_plus_buffer=False)"
   ]
  },
  {
   "cell_type": "code",
   "execution_count": 12,
   "id": "e7e061c7",
   "metadata": {},
   "outputs": [],
   "source": [
    "#design._chips['main']['size']['size_x'] = '2.904mm'\n",
    "design._chips['main']['size']['size_x'] = '2.512mm'\n",
    "design._chips['main']['size']['size_y'] = '2.75mm'"
   ]
  },
  {
   "cell_type": "code",
   "execution_count": 13,
   "id": "ed246ace",
   "metadata": {},
   "outputs": [],
   "source": [
    "# Pass a dict with arguments to be used add Setup to project.\n",
    "# If you don't pass all the arguments, the default is determined by\n",
    "# QHFSSRenderer's default_options.\n",
    "# The name of setup will be \"Sweep_dm_setup\".\n",
    "# If a setup named \"Sweep_dm_setup\" exists in the project, it will be deleted,\n",
    "# and a new setup will be added with the arguments from setup_args.\n",
    "hfss_dm_setup_args = Dict(freq_ghz=None,\n",
    "                          max_delta_s=None,\n",
    "                          max_passes=None,\n",
    "                          min_passes=None,\n",
    "                          min_converged=None,\n",
    "                          pct_refinement=None,\n",
    "                          basis_order=None)\n",
    "# Example of updating the keys that we are interested in.\n",
    "hfss_dm_setup_args = Dict(\n",
    "    freq_ghz=8.0,\n",
    "    max_delta_s=0.005,\n",
    "    max_passes=20,\n",
    "    min_passes=14,\n",
    ")"
   ]
  },
  {
   "cell_type": "code",
   "execution_count": 14,
   "id": "7c03877a",
   "metadata": {},
   "outputs": [],
   "source": [
    "dm_add_sweep_args = Dict(name=\"Sweep_options__dm_sweep\",\n",
    "                         start_ghz=6.0,\n",
    "                         stop_ghz=8.0,\n",
    "                         step_ghz=0.00001,\n",
    "                         type=\"Discrete\")"
   ]
  },
  {
   "cell_type": "code",
   "execution_count": 15,
   "id": "12451458",
   "metadata": {
    "scrolled": true
   },
   "outputs": [
    {
     "name": "stderr",
     "output_type": "stream",
     "text": [
      "INFO 02:17PM [connect_project]: Connecting to Ansys Desktop API...\n",
      "INFO 02:17PM [load_ansys_project]: \tOpened Ansys App\n",
      "INFO 02:17PM [load_ansys_project]: \tOpened Ansys Desktop v2019.1.0\n",
      "INFO 02:17PM [load_ansys_project]: \tOpened Ansys Project\n",
      "\tFolder:    C:/Users/2254729M/Documents/Ansoft/\n",
      "\tProject:   Project6\n",
      "INFO 02:17PM [connect_design]: No active design found (or error getting active design).\n",
      "INFO 02:17PM [connect]: \t Connected to project \"Project6\". No design detected\n",
      "02:17PM 32s WARNING [activate_ansys_design]: The design_name=Sweep_DrivenModal was not in active project.  Designs in active project are: \n",
      "[].  A new design will be added to the project.  \n",
      "INFO 02:17PM [connect_design]: \tOpened active design\n",
      "\tDesign:    Sweep_DrivenModal [Solution type: DrivenModal]\n",
      "WARNING 02:17PM [connect_setup]: \tNo design setup detected.\n",
      "WARNING 02:17PM [connect_setup]: \tCreating drivenmodal default setup.\n",
      "INFO 02:17PM [get_setup]: \tOpened setup `Setup`  (<class 'pyEPR.ansys.HfssDMSetup'>)\n",
      "INFO 02:17PM [get_setup]: \tOpened setup `Sweep_dm_setup`  (<class 'pyEPR.ansys.HfssDMSetup'>)\n",
      "INFO 02:17PM [get_setup]: \tOpened setup `Sweep_dm_setup`  (<class 'pyEPR.ansys.HfssDMSetup'>)\n",
      "ERROR 02:17PM [insert_sweep]: ERROR: you should provide either step_ghz or count                     when inserting an HFSS driven model freq sweep.                     YOu either provided both or neither! See insert_sweep.\n",
      "INFO 02:17PM [get_setup]: \tOpened setup `Sweep_dm_setup`  (<class 'pyEPR.ansys.HfssDMSetup'>)\n",
      "INFO 02:17PM [analyze]: Analyzing setup Sweep_dm_setup : Sweep_options__dm_sweep\n",
      "WARNING:py.warnings:C:\\Users\\2254729M\\.conda\\envs\\qiskitmetal\\lib\\site-packages\\pyEPR\\ansys.py:1222: FutureWarning: In a future version of pandas all arguments of DataFrame.drop except for the argument 'labels' will be keyword-only\n",
      "  df = pd.read_csv(io.StringIO(text2[3].strip()),\n",
      "\n"
     ]
    }
   ],
   "source": [
    "all_sweeps, return_code = sweep.sweep_one_option_get_drivenmodal_solution_data(\n",
    "    'readout',\n",
    "    'total_length', ['4.18mm'],\n",
    "    dm_render_args,\n",
    "    setup_args=hfss_dm_setup_args,\n",
    "    dm_add_sweep_args=dm_add_sweep_args,\n",
    "    leave_last_design=True)"
   ]
  },
  {
   "cell_type": "code",
   "execution_count": 16,
   "id": "3c3c1709",
   "metadata": {},
   "outputs": [
    {
     "name": "stdout",
     "output_type": "stream",
     "text": [
      "dict_keys(['4.18mm'])\n"
     ]
    }
   ],
   "source": [
    "# Each key corresponds to list passed to ['9mm', '8mm', '7mm']\n",
    "if return_code == 0:\n",
    "    print(all_sweeps.keys())\n",
    "else:\n",
    "    print('Check warning messages to see why all_sweeps is non-zero.')"
   ]
  },
  {
   "cell_type": "code",
   "execution_count": 17,
   "id": "542cc1f6",
   "metadata": {},
   "outputs": [
    {
     "data": {
      "text/plain": [
       "'total_length'"
      ]
     },
     "execution_count": 17,
     "metadata": {},
     "output_type": "execute_result"
    }
   ],
   "source": [
    "all_sweeps['4.18mm']['option_name']"
   ]
  },
  {
   "cell_type": "code",
   "execution_count": 18,
   "id": "a1802126",
   "metadata": {},
   "outputs": [
    {
     "name": "stdout",
     "output_type": "stream",
     "text": [
      "For total_length=4.18mm, convergence is True.\n"
     ]
    }
   ],
   "source": [
    "# For each key, know if the solution data converged.\n",
    "if return_code == 0:\n",
    "    for item in all_sweeps.keys():\n",
    "        option_name = all_sweeps[item]['option_name']\n",
    "        did_converge = all_sweeps[item]['convergence']\n",
    "        print(f'For {option_name}={item}, convergence is {did_converge}.')\n",
    "else:\n",
    "    print('Check warning messages to see why all_sweeps is non-zero.')"
   ]
  },
  {
   "cell_type": "code",
   "execution_count": 19,
   "id": "5dbea29c",
   "metadata": {},
   "outputs": [
    {
     "name": "stdout",
     "output_type": "stream",
     "text": [
      "             Solved Elements  Max Mag. Delta S\n",
      "Pass Number                                   \n",
      "1                       4452               NaN\n",
      "2                       5789          0.078165\n",
      "3                       7531          0.213740\n",
      "4                       9683          0.304660\n",
      "5                      12593          0.206560\n",
      "6                      16371          0.173670\n",
      "7                      21286          0.143950\n",
      "8                      27675          0.084649\n",
      "9                      35978          0.049919\n",
      "10                     46773          0.031524\n",
      "11                     60830          0.018643\n",
      "12                     79135          0.009729\n",
      "13                    102881          0.011820\n",
      "14                    133755          0.010616\n"
     ]
    }
   ],
   "source": [
    "# For example, just one group of solution data. Look at convergence data.\n",
    "if return_code == 0:\n",
    "    print(all_sweeps['4.18mm']['convergence_t'])\n",
    "else:\n",
    "    print('Check warning messages to see why all_sweeps is non-zero.')"
   ]
  },
  {
   "cell_type": "code",
   "execution_count": 20,
   "id": "e5fcf078",
   "metadata": {},
   "outputs": [
    {
     "name": "stdout",
     "output_type": "stream",
     "text": [
      "dict_keys(['option_name', 'convergence', 's_matrix', 'y_matrix', 'z_matrix', 'convergence_t'])\n"
     ]
    }
   ],
   "source": [
    "# Each values use for the given option, has three matrixes:  \n",
    "# scatter, impedance, and admittance.\n",
    "if return_code == 0:\n",
    "    print(all_sweeps['4.18mm'].keys())\n",
    "else:\n",
    "    print('Check warning messages to see why all_sweeps is non-zero.')"
   ]
  },
  {
   "cell_type": "code",
   "execution_count": 21,
   "id": "2b56382a",
   "metadata": {},
   "outputs": [],
   "source": [
    "if return_code == 0:\n",
    "    df_s = all_sweeps['4.18mm']['s_matrix']\n",
    "else:\n",
    "    print('Check warning messages to see why all_sweeps is non-zero.')"
   ]
  },
  {
   "cell_type": "code",
   "execution_count": 22,
   "id": "662fb955",
   "metadata": {},
   "outputs": [],
   "source": [
    "df_s['20_log_of_mag_S11']= 20 * np.log10(np.absolute(df_s['S11']))\n",
    "df_s['20_log_of_mag_S21']= 20 * np.log10(np.absolute(df_s['S21']))\n",
    "#df_s['20_log_of_mag_S31']= 20 * np.log10(np.absolute(df_s['S31']))\n",
    "\n",
    "# Reference to current axis. \n",
    "magnitude = plt.figure('Magnitude S11, S21, and S31')\n",
    "plt.clf()\n",
    "axis = plt.gca() # Get current axis.\n",
    "df_s = all_sweeps['4.18mm']['s_matrix']\n",
    "df_s.plot(kind = 'line', y='20_log_of_mag_S11', color = 'green', ax = axis)\n",
    "df_s.plot(kind = 'line', y='20_log_of_mag_S21', color = 'blue', ax = axis)\n",
    "#df_s.plot(kind = 'line', y='20_log_of_mag_S31', color = 'red', ax = axis)\n",
    "plt.title(f'S-Parameter Magnitude')\n",
    "plt.xlabel(f'frequency [GHZ]')\n",
    "plt.ylabel(f'|S11|,|S21| [dB]')\n",
    "magnitude.show()\n"
   ]
  },
  {
   "cell_type": "code",
   "execution_count": 23,
   "id": "a94cce91",
   "metadata": {},
   "outputs": [],
   "source": [
    "# Data is shown as degrees.  \n",
    "# However, if you want radians, change value of deg to false, deg=False.\n",
    "df_s['degrees_S11'] = np.angle(df_s['S11'], deg=True)\n",
    "df_s['degrees_S21'] = np.angle(df_s['S21'], deg=True)\n",
    "#df_s['degrees_S31'] = np.angle(df_s['S31'], deg=True)\n",
    "\n",
    "# Reference to current axis. \n",
    "phase = plt.figure('Phase of S11 and S21')\n",
    "plt.clf()\n",
    "axis = plt.gca() # Get current axis.\n",
    "df_s = all_sweeps['4.18mm']['s_matrix']\n",
    "df_s.plot(kind = 'line', y='degrees_S11', color = 'green', ax = axis)\n",
    "df_s.plot(kind = 'line', y='degrees_S21', color = 'blue', ax = axis)\n",
    "#df_s.plot(kind = 'line', y='degrees_S31', color = 'red', ax = axis)\n",
    "plt.title(f'S-Parameter Phase')\n",
    "plt.xlabel(f'frequency [GHZ]')\n",
    "plt.ylabel(f'<S11, <S21, <S31 [degrees]')\n",
    "phase.show()"
   ]
  },
  {
   "cell_type": "code",
   "execution_count": null,
   "id": "7feb412b",
   "metadata": {},
   "outputs": [],
   "source": [
    "#################################\n",
    "# END OF DRIVENMODAL SIMULATION #\n",
    "#################################\n",
    "############################################"
   ]
  },
  {
   "cell_type": "code",
   "execution_count": null,
   "id": "2b00077d",
   "metadata": {},
   "outputs": [],
   "source": [
    "############################################\n",
    "# BELOW CELLS ARE FOR EIGENMODE SIMULATION #\n",
    "############################################\n",
    "\n"
   ]
  },
  {
   "cell_type": "code",
   "execution_count": null,
   "id": "afdb83cd",
   "metadata": {},
   "outputs": [],
   "source": [
    "hfss.activate_eigenmode_design(\"Readout\")"
   ]
  },
  {
   "cell_type": "code",
   "execution_count": null,
   "id": "8126459b",
   "metadata": {},
   "outputs": [],
   "source": [
    "design._chips['main']['size']['size_x'] = '6mm'\n",
    "design._chips['main']['size']['size_y'] = '5.5mm'"
   ]
  },
  {
   "cell_type": "code",
   "execution_count": null,
   "id": "e11c10a5",
   "metadata": {},
   "outputs": [],
   "source": [
    "hfss.render_design([],[], box_plus_buffer=False)"
   ]
  },
  {
   "cell_type": "code",
   "execution_count": null,
   "id": "425f78f9",
   "metadata": {},
   "outputs": [],
   "source": [
    "setup = hfss.pinfo.setup\n",
    "setup.passes = 20\n",
    "print(f\"\"\"\n",
    "Number of eigenmodes to find             = {setup.n_modes}\n",
    "Number of simulation passes              = {setup.passes}\n",
    "Convergence freq max delta percent diff  = {setup.delta_f}\n",
    "\"\"\")\n",
    "\n",
    "pinfo = hfss.pinfo\n",
    "pinfo.design.set_variable('Lj', '10 nH')\n",
    "pinfo.design.set_variable('Cj', '0 fF')\n",
    "setup.analyze()\n",
    "\n",
    "hfss.plot_convergences()"
   ]
  },
  {
   "cell_type": "code",
   "execution_count": 24,
   "id": "94e4ba02",
   "metadata": {},
   "outputs": [],
   "source": [
    "hfss.disconnect_ansys()\n"
   ]
  },
  {
   "cell_type": "markdown",
   "id": "0ec0e324",
   "metadata": {},
   "source": []
  }
 ],
 "metadata": {
  "kernelspec": {
   "display_name": "Python 3 (ipykernel)",
   "language": "python",
   "name": "python3"
  },
  "language_info": {
   "codemirror_mode": {
    "name": "ipython",
    "version": 3
   },
   "file_extension": ".py",
   "mimetype": "text/x-python",
   "name": "python",
   "nbconvert_exporter": "python",
   "pygments_lexer": "ipython3",
   "version": "3.9.6"
  }
 },
 "nbformat": 4,
 "nbformat_minor": 5
}
