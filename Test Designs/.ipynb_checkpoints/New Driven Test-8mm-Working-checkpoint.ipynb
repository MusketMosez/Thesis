{
 "cells": [
  {
   "cell_type": "code",
   "execution_count": null,
   "id": "c4aecb7b",
   "metadata": {},
   "outputs": [],
   "source": [
    "### Initial design of drawing a coplanar waveguide resonator \n",
    "\n",
    "\n",
    "# automatic reloading of modules when they change\n",
    "\n",
    "%load_ext autoreload\n",
    "%autoreload 2\n"
   ]
  },
  {
   "cell_type": "code",
   "execution_count": null,
   "id": "48926d31",
   "metadata": {},
   "outputs": [],
   "source": [
    "# Import statements\n",
    "\n",
    "import qiskit_metal as metal\n",
    "from qiskit_metal import designs, draw\n",
    "from qiskit_metal import MetalGUI, Dict, Headings\n",
    "from qiskit_metal.analyses.sweep_options.sweeping import Sweeping\n",
    "import pyEPR as epr\n",
    "\n",
    "from qiskit_metal.qlibrary.terminations.launchpad_wb_coupled import LaunchpadWirebondCoupled\n",
    "from qiskit_metal.qlibrary.terminations.open_to_ground import OpenToGround\n",
    "from qiskit_metal.qlibrary.terminations.short_to_ground import ShortToGround\n",
    "from qiskit_metal.qlibrary.tlines.meandered import RouteMeander\n",
    "from qiskit_metal.qlibrary.tlines.straight_path import RouteStraight\n",
    "from qiskit_metal.qlibrary.couplers.coupled_line_tee import CoupledLineTee"
   ]
  },
  {
   "cell_type": "code",
   "execution_count": null,
   "id": "32a9a3b3",
   "metadata": {},
   "outputs": [],
   "source": [
    "# Instantiate QDesign class and initialise user interface\n",
    "\n",
    "design = designs.DesignPlanar({}, True)\n",
    "design.chips.main.size['size_x'] = '2mm'\n",
    "design.chips.main.size['size_y'] = '2mm'\n",
    "gui = MetalGUI(design)\n",
    "\n",
    "# Set hfss as renderer for design\n",
    "hfss = design.renderers.hfss\n",
    "\n",
    "# Allow overwriting\n",
    "design.overwrite_enabled = True\n"
   ]
  },
  {
   "cell_type": "code",
   "execution_count": null,
   "id": "ebc2bc28",
   "metadata": {},
   "outputs": [],
   "source": []
  },
  {
   "cell_type": "code",
   "execution_count": null,
   "id": "bb7a6468",
   "metadata": {},
   "outputs": [],
   "source": [
    "# Add hanger of capacitievely coupled transmission lines\n",
    "TQ1 = CoupledLineTee(design, 'TQ1', options=dict(pos_x='0mm',\n",
    "                                                 pos_y='0.5mm',\n",
    "                                                 coupling_length='100um'))\n",
    "gui.rebuild()\n",
    "gui.autoscale()"
   ]
  },
  {
   "cell_type": "code",
   "execution_count": null,
   "id": "3da5af33",
   "metadata": {},
   "outputs": [],
   "source": [
    "# Create shorted pin and open pin for resonator\n",
    "\n",
    "otg3 = OpenToGround(design, 'open_to_ground3', options=dict(pos_x='0um', pos_y='-2.5mm',\n",
    "orientation='180'))\n",
    "\n",
    "\n",
    "# Jogs to allow bending of open end of CPW\n",
    "# So far does not render in hfss\n",
    "from collections import OrderedDict\n",
    "jogs = OrderedDict()\n",
    "jogs[0] = [\"L\", '125um']\n",
    "jogs[1] = [\"R\", '100um']\n",
    "#jogs[2] = [\"L\", '100um']\n",
    "\n",
    "jogs2 = OrderedDict()\n",
    "jogs2[0] = [\"R\", '100um']\n",
    "jogs2[1] = [\"L\", '110um' ]\n",
    "\n",
    "# Create meandered resonator between shorted and opened pin\n",
    "rt_meander = RouteMeander(design, 'readout', Dict(\n",
    "        total_length='8 mm',\n",
    "        hfss_wire_bonds = False,\n",
    "        fillet='90 um',\n",
    "        lead = Dict(\n",
    "        start_straight='0.1mm',\n",
    "        end_straight='0mm'),\n",
    "        #start_jogged_extensions=jogs2,\n",
    "        #end_jogged_extension=jogs),\n",
    "        meander=Dict(\n",
    "        spacing = '200 um'),\n",
    "        pin_inputs=Dict(\n",
    "            start_pin=Dict(component='TQ1', pin='second_end'),\n",
    "            end_pin=Dict(component='open_to_ground3', pin='open')), ))\n",
    "\n",
    "gui.rebuild()\n",
    "gui.autoscale()\n"
   ]
  },
  {
   "cell_type": "code",
   "execution_count": null,
   "id": "ca6ee386",
   "metadata": {},
   "outputs": [],
   "source": [
    "#Setup the launchpad location and orientation.\n",
    "#launch_options1 = dict(pos_x='-500um', pos_y='0.5mm', orientation='0')\n",
    "\n",
    "#lp = LaunchpadWirebondCoupled(design, 'P4_Q', options = launch_options1)\n",
    "\n",
    "otg = OpenToGround(design, 'open_to_ground1', options=dict(pos_x='-1.5mm', pos_y='0.5mm',\n",
    "orientation='0'))\n",
    "\n",
    "\n",
    "\n",
    "#Setup the OpenToGround location and orientation.\n",
    "#launch_options2 = dict(pos_x='0.75mm',  pos_y='0.5mm', orientation='180')\n",
    "\n",
    "#lp2 = LaunchpadWirebondCoupled(design, 'P5_Q', options = launch_options2)\n",
    "\n",
    "\n",
    "otg2 = OpenToGround(design, 'open_to_ground', options=dict(pos_x='1.5mm', pos_y='0.5mm',\n",
    "orientation='180'))\n",
    "\n",
    "#After the two QComponents are added to design, connect them with a RouteMeander.\n",
    "meander_options_left = Dict(\n",
    "        pin_inputs=Dict(\n",
    "            start_pin=Dict(component='TQ1', pin='prime_start'),\n",
    "            end_pin=Dict(component=otg.name, pin='open')), )\n",
    "\n",
    "meander_options_right = Dict(\n",
    "        pin_inputs=Dict(\n",
    "            start_pin=Dict(component='TQ1', pin='prime_end'),\n",
    "            end_pin=Dict(component='open_to_ground', pin='open')), )\n",
    "\n",
    "\n",
    "meander_left = RouteStraight(design, 'cpw_left',options=meander_options_left)\n",
    "meander_right = RouteStraight(design, 'cpw_right',options=meander_options_right)\n",
    "\n",
    "gui.rebuild()\n",
    "gui.autoscale()"
   ]
  },
  {
   "cell_type": "code",
   "execution_count": null,
   "id": "ef60158d",
   "metadata": {},
   "outputs": [],
   "source": [
    "\n"
   ]
  },
  {
   "cell_type": "code",
   "execution_count": null,
   "id": "c8ef1624",
   "metadata": {},
   "outputs": [],
   "source": [
    "# Screenshot the canvas only as a .png formatted file.\n",
    "#gui.figure.savefig('shot.png')\n",
    "\n",
    "#from IPython.display import Image, display\n",
    "#_disp_ops = dict(width=500)\n",
    "#display(Image('shot.png', **_disp_ops))"
   ]
  },
  {
   "cell_type": "code",
   "execution_count": null,
   "id": "cb00a813",
   "metadata": {},
   "outputs": [],
   "source": [
    "hfss.open_ansys(path = 'C:\\Program Files\\AnsysEM\\AnsysEM19.3\\Win64')"
   ]
  },
  {
   "cell_type": "code",
   "execution_count": null,
   "id": "77e745de",
   "metadata": {
    "scrolled": true
   },
   "outputs": [],
   "source": [
    "hfss.connect_ansys()"
   ]
  },
  {
   "cell_type": "code",
   "execution_count": null,
   "id": "cf41e906",
   "metadata": {
    "scrolled": true
   },
   "outputs": [],
   "source": [
    "sweep = Sweeping(design)"
   ]
  },
  {
   "cell_type": "code",
   "execution_count": null,
   "id": "55b705ea",
   "metadata": {},
   "outputs": [],
   "source": [
    "hfss.options['x_buffer_width_mm'] = 0.5\n",
    "hfss.options['y_buffer_width_mm'] = 0.5"
   ]
  },
  {
   "cell_type": "code",
   "execution_count": null,
   "id": "0607bc6f",
   "metadata": {},
   "outputs": [],
   "source": [
    "selection = [] #render everything in geometry table\n",
    "open_pins = []\n",
    "port_list = [('cpw_right', 'end', 50), ('cpw_left', 'end', 50)]\n",
    "jj_to_port = []\n",
    "ignored_jjs = []\n",
    "box_plus_buffer = True\n",
    "\n",
    "dm_render_args = Dict(selection=selection,\n",
    "                      open_pins=open_pins,\n",
    "                      port_list=port_list,\n",
    "                      jj_to_port=jj_to_port,\n",
    "                      ignored_jjs=ignored_jjs,\n",
    "                      box_plus_buffer=box_plus_buffer)\n"
   ]
  },
  {
   "cell_type": "code",
   "execution_count": null,
   "id": "03cb9e60",
   "metadata": {},
   "outputs": [],
   "source": [
    "hfss.clean_active_design()"
   ]
  },
  {
   "cell_type": "code",
   "execution_count": null,
   "id": "710d7b12",
   "metadata": {},
   "outputs": [],
   "source": [
    "hfss.render_design([],\n",
    "                   [],\n",
    "                  [('cpw_right', 'end', 50), ('cpw_left', 'end', 50)],\n",
    "                  [],\n",
    "                  [],\n",
    "                  box_plus_buffer=False)"
   ]
  },
  {
   "cell_type": "code",
   "execution_count": null,
   "id": "ddfbc99e",
   "metadata": {},
   "outputs": [],
   "source": [
    "design._chips['main']['size']['size_x'] = '3mm'\n",
    "design._chips['main']['size']['size_y'] = '3mm'"
   ]
  },
  {
   "cell_type": "code",
   "execution_count": null,
   "id": "c20c26e6",
   "metadata": {},
   "outputs": [],
   "source": [
    "# Pass a dict with arguments to be used add Setup to project.\n",
    "# If you don't pass all the arguments, the default is determined by\n",
    "# QHFSSRenderer's default_options.\n",
    "# The name of setup will be \"Sweep_dm_setup\".\n",
    "# If a setup named \"Sweep_dm_setup\" exists in the project, it will be deleted,\n",
    "# and a new setup will be added with the arguments from setup_args.\n",
    "hfss_dm_setup_args = Dict(freq_ghz=None,\n",
    "                          max_delta_s=None,\n",
    "                          max_passes=None,\n",
    "                          min_passes=None,\n",
    "                          min_converged=None,\n",
    "                          pct_refinement=None,\n",
    "                          basis_order=None)\n",
    "# Example of updating the keys that we are interested in.\n",
    "hfss_dm_setup_args = Dict(\n",
    "    freq_ghz=6.0,\n",
    "    max_delta_s=0.05,\n",
    "    max_passes=12,\n",
    "    min_passes=2,\n",
    ")"
   ]
  },
  {
   "cell_type": "code",
   "execution_count": null,
   "id": "bde49f64",
   "metadata": {},
   "outputs": [],
   "source": [
    "dm_add_sweep_args = Dict(name=\"Sweep_options__dm_sweep\",\n",
    "                         start_ghz=2.0,\n",
    "                         stop_ghz=8.0,\n",
    "                         count=2001,\n",
    "                         type=\"Interpolating\")"
   ]
  },
  {
   "cell_type": "code",
   "execution_count": null,
   "id": "04141921",
   "metadata": {},
   "outputs": [],
   "source": [
    "all_sweeps, return_code = sweep.sweep_one_option_get_drivenmodal_solution_data(\n",
    "    'readout',\n",
    "    'total_length', ['9mm', '8mm', '7mm'],\n",
    "    dm_render_args,\n",
    "    setup_args=hfss_dm_setup_args,\n",
    "    dm_add_sweep_args=dm_add_sweep_args,\n",
    "    leave_last_design=True)"
   ]
  },
  {
   "cell_type": "code",
   "execution_count": null,
   "id": "0ba94181",
   "metadata": {
    "scrolled": true
   },
   "outputs": [],
   "source": [
    "# Each key corresponds to list passed to ['9mm', '8mm', '7mm']\n",
    "if return_code == 0:\n",
    "    print(all_sweeps.keys())\n",
    "else:\n",
    "    print('Check warning messages to see why all_sweeps is non-zero.')"
   ]
  },
  {
   "cell_type": "code",
   "execution_count": null,
   "id": "b7e10735",
   "metadata": {},
   "outputs": [],
   "source": [
    "all_sweeps['9mm']['option_name']"
   ]
  },
  {
   "cell_type": "code",
   "execution_count": null,
   "id": "770bfb6c",
   "metadata": {},
   "outputs": [],
   "source": [
    "# For each key, know if the solution data converged.\n",
    "if return_code == 0:\n",
    "    for item in all_sweeps.keys():\n",
    "        option_name = all_sweeps[item]['option_name']\n",
    "        did_converge = all_sweeps[item]['convergence']\n",
    "        print(f'For {option_name}={item}, convergence is {did_converge}.')\n",
    "else:\n",
    "    print('Check warning messages to see why all_sweeps is non-zero.')"
   ]
  },
  {
   "cell_type": "code",
   "execution_count": null,
   "id": "73a6ca1b",
   "metadata": {},
   "outputs": [],
   "source": [
    "# For example, just one group of solution data. Look at convergence data.\n",
    "if return_code == 0:\n",
    "    print(all_sweeps['9mm']['convergence_t'])\n",
    "else:\n",
    "    print('Check warning messages to see why all_sweeps is non-zero.')"
   ]
  },
  {
   "cell_type": "code",
   "execution_count": null,
   "id": "2e52fc58",
   "metadata": {},
   "outputs": [],
   "source": [
    "# Each values use for the given option, has three matrixes:  \n",
    "# scatter, impedance, and admittance.\n",
    "if return_code == 0:\n",
    "    print(all_sweeps['9mm'].keys())\n",
    "else:\n",
    "    print('Check warning messages to see why all_sweeps is non-zero.')"
   ]
  },
  {
   "cell_type": "code",
   "execution_count": null,
   "id": "2fd81169",
   "metadata": {},
   "outputs": [],
   "source": [
    "# For example, just one group of solution data. \n",
    "if return_code == 0:\n",
    "    print(all_sweeps['9mm']['z_matrix'])\n",
    "else:\n",
    "    print('Check warning messages to see why all_sweeps is non-zero.')"
   ]
  },
  {
   "cell_type": "code",
   "execution_count": null,
   "id": "72a88bc8",
   "metadata": {},
   "outputs": [],
   "source": [
    "if return_code == 0:\n",
    "    df_s = all_sweeps['9mm']['s_matrix']\n",
    "else:\n",
    "    print('Check warning messages to see why all_sweeps is non-zero.')"
   ]
  },
  {
   "cell_type": "code",
   "execution_count": null,
   "id": "2b2ab707",
   "metadata": {},
   "outputs": [],
   "source": [
    "df_s['20_log_of_mag_S11']= 20 * np.log10(np.absolute(df_s['S11']))\n",
    "df_s['20_log_of_mag_S21']= 20 * np.log10(np.absolute(df_s['S21']))\n",
    "df_s['20_log_of_mag_S31']= 20 * np.log10(np.absolute(df_s['S31']))\n",
    "\n",
    "# Reference to current axis. \n",
    "magnitude = plt.figure('Magnitude S11, S21, and S31')\n",
    "plt.clf()\n",
    "axis = plt.gca() # Get current axis.\n",
    "df_s = all_sweeps['9mm']['s_matrix']\n",
    "df_s.plot(kind = 'line', y='20_log_of_mag_S11', color = 'green', ax = axis)\n",
    "df_s.plot(kind = 'line', y='20_log_of_mag_S21', color = 'blue', ax = axis)\n",
    "df_s.plot(kind = 'line', y='20_log_of_mag_S31', color = 'red', ax = axis)\n",
    "plt.title(f'S-Parameter Magnitude')\n",
    "plt.xlabel(f'frequency [GHZ]')\n",
    "plt.ylabel(f'|S11|,|S21|,|S31| [dB]')\n",
    "magnitude.show()\n",
    "In [ ]:"
   ]
  },
  {
   "cell_type": "code",
   "execution_count": null,
   "id": "b8036cce",
   "metadata": {},
   "outputs": [],
   "source": [
    "# Data is shown as degrees.  \n",
    "# However, if you want radians, change value of deg to false, deg=False.\n",
    "df_s['degrees_S11'] = np.angle(df_s['S11'], deg=True)\n",
    "df_s['degrees_S21'] = np.angle(df_s['S21'], deg=True)\n",
    "df_s['degrees_S31'] = np.angle(df_s['S31'], deg=True)\n",
    "\n",
    "# Reference to current axis. \n",
    "phase = plt.figure('Phase of S11 and S21')\n",
    "plt.clf()\n",
    "axis = plt.gca() # Get current axis.\n",
    "df_s = all_sweeps['9mm']['s_matrix']\n",
    "df_s.plot(kind = 'line', y='degrees_S11', color = 'green', ax = axis)\n",
    "df_s.plot(kind = 'line', y='degrees_S21', color = 'blue', ax = axis)\n",
    "df_s.plot(kind = 'line', y='degrees_S31', color = 'red', ax = axis)\n",
    "plt.title(f'S-Parameter Phase')\n",
    "plt.xlabel(f'frequency [GHZ]')\n",
    "plt.ylabel(f'<S11, <S21, <S31 [degrees]')\n",
    "phase.show()"
   ]
  },
  {
   "cell_type": "code",
   "execution_count": null,
   "id": "7ffa6811",
   "metadata": {},
   "outputs": [],
   "source": [
    "# In HFSS, after the last sweep, should the design be cleared?  The argument \"leave_last_design\" is true by default. \n",
    "# If you want to delete after last sweep, change argument to false.\n",
    "\n",
    "leave_last_design = False\n",
    "\n",
    "all_sweeps, return_code = sweep.sweep_one_option_get_drivenmodal_solution_data(\n",
    "    meanderQ1.name,\n",
    "    'total_length', ['9mm', '8mm', '7mm'],\n",
    "    dm_render_args,\n",
    "    setup_args=hfss_dm_setup_args,\n",
    "    dm_add_sweep_args=dm_add_sweep_args,\n",
    "    leave_last_design=leave_last_design)"
   ]
  },
  {
   "cell_type": "code",
   "execution_count": null,
   "id": "cba4d5a3",
   "metadata": {
    "scrolled": true
   },
   "outputs": [],
   "source": []
  },
  {
   "cell_type": "code",
   "execution_count": null,
   "id": "2240c09b",
   "metadata": {},
   "outputs": [],
   "source": [
    "hfss.disconnect_ansys()"
   ]
  },
  {
   "cell_type": "code",
   "execution_count": null,
   "id": "b8a9205d",
   "metadata": {},
   "outputs": [],
   "source": []
  }
 ],
 "metadata": {
  "kernelspec": {
   "display_name": "Python 3 (ipykernel)",
   "language": "python",
   "name": "python3"
  },
  "language_info": {
   "codemirror_mode": {
    "name": "ipython",
    "version": 3
   },
   "file_extension": ".py",
   "mimetype": "text/x-python",
   "name": "python",
   "nbconvert_exporter": "python",
   "pygments_lexer": "ipython3",
   "version": "3.9.6"
  }
 },
 "nbformat": 4,
 "nbformat_minor": 5
}
