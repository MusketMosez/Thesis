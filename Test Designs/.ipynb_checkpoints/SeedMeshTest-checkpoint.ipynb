{
 "cells": [
  {
   "cell_type": "code",
   "execution_count": null,
   "id": "4e696588",
   "metadata": {},
   "outputs": [],
   "source": [
    "%load_ext autoreload\n",
    "%autoreload 2\n",
    "\n",
    "import qiskit_metal as metal\n",
    "from qiskit_metal import designs, draw\n",
    "from qiskit_metal import MetalGUI, Dict, Headings\n",
    "import pyEPR as epr"
   ]
  },
  {
   "cell_type": "code",
   "execution_count": null,
   "id": "9ba36d80",
   "metadata": {},
   "outputs": [],
   "source": [
    "from qiskit_metal.qlibrary.tlines.meandered import RouteMeander\n",
    "from qiskit_metal.qlibrary.terminations.open_to_ground import OpenToGround\n",
    "from qiskit_metal.qlibrary.terminations.short_to_ground import ShortToGround\n",
    "from qiskit_metal.qlibrary.couplers.coupled_line_tee import CoupledLineTee\n",
    "\n",
    "# Instantiate QDesign class and initialise user interface\n",
    "\n",
    "design = designs.DesignPlanar({}, True)\n",
    "design.chips.main.size['size_x'] = '2mm'\n",
    "design.chips.main.size['size_y'] = '2mm'\n",
    "design.chips.main.size['size_z'] = '-500um'\n",
    "design.chips.main.size['sample_holder_bottom'] = '500um'\n",
    "design.chips.main.size['sample_holder_top'] = '2000um'\n",
    "\n",
    "\n",
    "\n",
    "# Set hfss as renderer for design\n",
    "#hfss = design.renderers.hfss\n",
    "# Allow overwriting\n",
    "gui = MetalGUI(design)\n",
    "design.overwrite_enabled = True\n",
    "\n",
    "#design.delete_all_components()\n"
   ]
  },
  {
   "cell_type": "code",
   "execution_count": null,
   "id": "2b7965a8",
   "metadata": {},
   "outputs": [],
   "source": [
    "#Add hanger of capacitively coupled transmission lines\n",
    "TQ1 = CoupledLineTee(design, 'TQ1', options=dict(pos_x='-0.9mm',\n",
    "                     pos_y='0mm',\n",
    "                     coupling_length='200um',\n",
    "                     coupling_space='1um',\n",
    "                     rotation = '90'))\n",
    "\n",
    "gui.rebuild()\n",
    "gui.autoscale()"
   ]
  },
  {
   "cell_type": "code",
   "execution_count": null,
   "id": "527a1efc",
   "metadata": {},
   "outputs": [],
   "source": [
    "otg1 = OpenToGround(design, 'open_to_ground', options=dict(pos_x='0.7mm',  pos_y='0.1mm', orientation='0'))\n",
    "rt_meander = RouteMeander(design, 'readout',  Dict(\n",
    "        total_length='4.18 mm',\n",
    "        hfss_wire_bonds = True,\n",
    "        fillet='90 um',\n",
    "        lead = dict(start_straight='100um'),\n",
    "        pin_inputs=Dict(\n",
    "            start_pin=Dict(component='TQ1', pin='second_end'),\n",
    "            #start_pin=Dict(component=stg.name, pin='short'),\n",
    "            end_pin=Dict(component='open_to_ground', pin='open')), ))\n",
    "\n",
    "gui.rebuild()\n",
    "gui.autoscale()"
   ]
  },
  {
   "cell_type": "code",
   "execution_count": null,
   "id": "373cea80",
   "metadata": {},
   "outputs": [],
   "source": [
    "#Setup the launchpad location and orientation.\n",
    "from qiskit_metal.qlibrary.tlines.straight_path import RouteStraight\n",
    "\n",
    "\n",
    "#launch_options1 = dict(pos_x='1.25mm', pos_y='0.9mm', orientation='180')\n",
    "\n",
    "#lp = LaunchpadWirebond(design, 'P4_Q', options = launch_options1)\n",
    "\n",
    "otg2 = OpenToGround(design, 'open_to_ground2', options=dict(pos_x='-0.9mm', pos_y='1.25mm',\n",
    "orientation='90'))\n",
    "\n",
    "\n",
    "\n",
    "#Setup the OpenToGround location and orientation.\n",
    "#launch_options2 = dict(pos_x='-1.25mm',  pos_y='0.9mm', orientation='0')\n",
    "\n",
    "#lp2 = LaunchpadWirebond(design, 'P5_Q', options = launch_options2)\n",
    "\n",
    "\n",
    "otg3 = OpenToGround(design, 'open_to_ground3', options=dict(pos_x='-0.9mm', pos_y='-1.25mm',\n",
    "orientation='270'))\n",
    "\n",
    "#After the two QComponents are added to design, connect them with a RouteMeander.\n",
    "meander_options_left = Dict(\n",
    "        pin_inputs=Dict(\n",
    "            start_pin=Dict(component='TQ1', pin='prime_start'),\n",
    "            end_pin=Dict(component=otg3.name, pin='open')), )\n",
    "\n",
    "meander_options_right = Dict(\n",
    "        pin_inputs=Dict(\n",
    "            start_pin=Dict(component='TQ1', pin='prime_end'),\n",
    "            end_pin=Dict(component=otg2.name, pin='open')), )\n",
    "\n",
    "\n",
    "meander_left = RouteStraight(design, 'cpw_left',options=meander_options_left)\n",
    "meander_right = RouteStraight(design, 'cpw_right',options=meander_options_right)\n",
    "\n",
    "gui.rebuild()\n",
    "gui.autoscale()"
   ]
  },
  {
   "cell_type": "code",
   "execution_count": null,
   "id": "fcd6798a",
   "metadata": {},
   "outputs": [],
   "source": [
    "from qiskit_metal.analyses.simulation import ScatteringImpedanceSim\n",
    "em1 = ScatteringImpedanceSim(design, \"hfss\")"
   ]
  },
  {
   "cell_type": "code",
   "execution_count": null,
   "id": "18c9239d",
   "metadata": {},
   "outputs": [],
   "source": [
    "hfss = em1.renderer"
   ]
  },
  {
   "cell_type": "code",
   "execution_count": null,
   "id": "e143de99",
   "metadata": {},
   "outputs": [],
   "source": [
    "hfss.open_ansys(path = 'C:\\Program Files\\AnsysEM\\AnsysEM19.3\\Win64')"
   ]
  },
  {
   "cell_type": "code",
   "execution_count": null,
   "id": "6ecb1e71",
   "metadata": {},
   "outputs": [],
   "source": [
    "hfss.connect_ansys()"
   ]
  },
  {
   "cell_type": "code",
   "execution_count": null,
   "id": "90f3402f",
   "metadata": {},
   "outputs": [],
   "source": [
    "hfss.activate_ansys_design(\"HangingResonators\", 'drivenmodal')"
   ]
  },
  {
   "cell_type": "code",
   "execution_count": null,
   "id": "e4033e28",
   "metadata": {},
   "outputs": [],
   "source": [
    "#hfss.options['x_buffer_width_mm'] = 0.5\n",
    "#hfss.options['y_buffer_width_mm'] = 0.5\n",
    "design._chips['main']['size']['size_y'] = '2.512mm'\n",
    "design._chips['main']['size']['size_x'] = '2.75mm'"
   ]
  },
  {
   "cell_type": "code",
   "execution_count": null,
   "id": "63323464",
   "metadata": {},
   "outputs": [],
   "source": [
    "hfss.render_design(selection=[],\n",
    "                   open_pins=[],\n",
    "                   port_list=[('cpw_right', 'end', 50), ('cpw_left', 'end', 50)],\n",
    "                   jj_to_port=[],\n",
    "                   ignored_jjs=[],\n",
    "                   box_plus_buffer = False)"
   ]
  },
  {
   "cell_type": "code",
   "execution_count": null,
   "id": "2e04e1e6",
   "metadata": {},
   "outputs": [],
   "source": [
    "hfss.add_sweep(setup_name=\"Setup\",\n",
    "               name=\"Sweep\",\n",
    "               start_ghz=2.0,\n",
    "               stop_ghz=9.0,\n",
    "               count=10001,\n",
    "               type=\"Interpolating\")"
   ]
  },
  {
   "cell_type": "code",
   "execution_count": null,
   "id": "9cd52eb7",
   "metadata": {},
   "outputs": [],
   "source": [
    "hfss.analyze_sweep('Sweep', 'Setup')"
   ]
  },
  {
   "cell_type": "code",
   "execution_count": null,
   "id": "94356516",
   "metadata": {},
   "outputs": [],
   "source": [
    "hfss.disconnect_ansys()"
   ]
  },
  {
   "cell_type": "code",
   "execution_count": null,
   "id": "3eef828d",
   "metadata": {},
   "outputs": [],
   "source": []
  }
 ],
 "metadata": {
  "kernelspec": {
   "display_name": "Python 3 (ipykernel)",
   "language": "python",
   "name": "python3"
  },
  "language_info": {
   "codemirror_mode": {
    "name": "ipython",
    "version": 3
   },
   "file_extension": ".py",
   "mimetype": "text/x-python",
   "name": "python",
   "nbconvert_exporter": "python",
   "pygments_lexer": "ipython3",
   "version": "3.9.6"
  }
 },
 "nbformat": 4,
 "nbformat_minor": 5
}
