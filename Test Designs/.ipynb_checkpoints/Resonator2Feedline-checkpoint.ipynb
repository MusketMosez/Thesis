{
 "cells": [
  {
   "cell_type": "code",
   "execution_count": 1,
   "id": "42e0c9b8",
   "metadata": {},
   "outputs": [],
   "source": [
    "### Initial design of drawing a coplanar waveguide resonator \n",
    "\n",
    "\n",
    "# automatic reloading of modules when they change\n",
    "\n",
    "%load_ext autoreload\n",
    "%autoreload 2\n"
   ]
  },
  {
   "cell_type": "code",
   "execution_count": 8,
   "id": "08287bd3",
   "metadata": {},
   "outputs": [],
   "source": [
    "# Import statements\n",
    "\n",
    "import qiskit_metal as metal\n",
    "from qiskit_metal import designs, draw\n",
    "from qiskit_metal import MetalGUI, Dict, Headings\n",
    "\n",
    "from qiskit_metal.qlibrary.terminations.open_to_ground import OpenToGround\n",
    "from qiskit_metal.qlibrary.terminations.short_to_ground import ShortToGround\n",
    "from qiskit_metal.qlibrary.tlines.meandered import RouteMeander"
   ]
  },
  {
   "cell_type": "code",
   "execution_count": 5,
   "id": "4036a20c",
   "metadata": {},
   "outputs": [],
   "source": [
    "# Instantiate QDesign class and initialise user interface\n",
    "\n",
    "design = designs.DesignPlanar()\n",
    "gui = MetalGUI(design)"
   ]
  },
  {
   "cell_type": "code",
   "execution_count": 6,
   "id": "aa86dd4e",
   "metadata": {},
   "outputs": [],
   "source": [
    "# Allow overwriting\n",
    "\n",
    "design.overwrite_enabled = True"
   ]
  },
  {
   "cell_type": "code",
   "execution_count": 38,
   "id": "43eec465",
   "metadata": {},
   "outputs": [
    {
     "name": "stderr",
     "output_type": "stream",
     "text": [
      "02:47PM 12s WARNING [check_lengths]: For path table, component=readout, key=trace has short segments that could cause issues with fillet. Values in (1-2) (21-23)  are index(es) in shapley geometry.\n",
      "02:47PM 12s WARNING [check_lengths]: For path table, component=readout, key=cut has short segments that could cause issues with fillet. Values in (1-2) (21-23)  are index(es) in shapley geometry.\n",
      "02:47PM 12s WARNING [check_lengths]: For path table, component=readout, key=trace has short segments that could cause issues with fillet. Values in (1-2) (21-23)  are index(es) in shapley geometry.\n",
      "02:47PM 12s WARNING [check_lengths]: For path table, component=readout, key=cut has short segments that could cause issues with fillet. Values in (1-2) (21-23)  are index(es) in shapley geometry.\n"
     ]
    }
   ],
   "source": [
    "otg = OpenToGround(design, 'open_to_ground', options=dict(pos_x='0um', pos_y='1.25mm',\n",
    "orientation='0'))\n",
    "stg = ShortToGround(design, 'short_to_ground', options=dict(pos_x='0um', pos_y='-1.25mm',\n",
    "orientation='90')) \n",
    "\n",
    "rt_meander = RouteMeander(design, 'readout', Dict(\n",
    "        total_length='4 mm',\n",
    "        hfss_wire_bonds = True,\n",
    "        fillet='90 um',\n",
    "        lead = dict(straight='100um'),\n",
    "        pin_inputs=Dict(\n",
    "            start_pin=Dict(component='short_to_ground', pin='short'),\n",
    "            end_pin=Dict(component='open_to_ground', pin='open')), ))\n",
    "\n",
    "gui.rebuild()\n",
    "gui.autoscale()\n"
   ]
  },
  {
   "cell_type": "code",
   "execution_count": null,
   "id": "8a6eb8ab",
   "metadata": {},
   "outputs": [],
   "source": []
  }
 ],
 "metadata": {
  "kernelspec": {
   "display_name": "Python 3",
   "language": "python",
   "name": "python3"
  },
  "language_info": {
   "codemirror_mode": {
    "name": "ipython",
    "version": 3
   },
   "file_extension": ".py",
   "mimetype": "text/x-python",
   "name": "python",
   "nbconvert_exporter": "python",
   "pygments_lexer": "ipython3",
   "version": "3.8.10"
  }
 },
 "nbformat": 4,
 "nbformat_minor": 5
}
