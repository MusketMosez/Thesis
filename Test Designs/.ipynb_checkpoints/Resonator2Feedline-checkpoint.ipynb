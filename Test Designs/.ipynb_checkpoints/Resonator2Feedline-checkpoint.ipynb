{
 "cells": [
  {
   "cell_type": "code",
   "execution_count": 1,
   "id": "42e0c9b8",
   "metadata": {},
   "outputs": [],
   "source": [
    "### Initial design of drawing a coplanar waveguide resonator \n",
    "\n",
    "\n",
    "# automatic reloading of modules when they change\n",
    "\n",
    "%load_ext autoreload\n",
    "%autoreload 2\n"
   ]
  },
  {
   "cell_type": "code",
   "execution_count": 78,
   "id": "08287bd3",
   "metadata": {},
   "outputs": [],
   "source": [
    "# Import statements\n",
    "\n",
    "import qiskit_metal as metal\n",
    "from qiskit_metal import designs, draw\n",
    "from qiskit_metal import MetalGUI, Dict, Headings\n",
    "\n",
    "from qiskit_metal.qlibrary.terminations.launchpad_wb_coupled import LaunchpadWirebondCoupled\n",
    "from qiskit_metal.qlibrary.terminations.open_to_ground import OpenToGround\n",
    "from qiskit_metal.qlibrary.terminations.short_to_ground import ShortToGround\n",
    "from qiskit_metal.qlibrary.tlines.meandered import RouteMeander\n",
    "from qiskit_metal.qlibrary.tlines.straight_path import RouteStraight"
   ]
  },
  {
   "cell_type": "code",
   "execution_count": 3,
   "id": "4036a20c",
   "metadata": {},
   "outputs": [],
   "source": [
    "# Instantiate QDesign class and initialise user interface\n",
    "\n",
    "design = designs.DesignPlanar()\n",
    "gui = MetalGUI(design)"
   ]
  },
  {
   "cell_type": "code",
   "execution_count": 4,
   "id": "aa86dd4e",
   "metadata": {},
   "outputs": [],
   "source": [
    "# Allow overwriting\n",
    "\n",
    "design.overwrite_enabled = True"
   ]
  },
  {
   "cell_type": "code",
   "execution_count": 81,
   "id": "43eec465",
   "metadata": {},
   "outputs": [
    {
     "name": "stderr",
     "output_type": "stream",
     "text": [
      "05:24PM 09s WARNING [check_lengths]: For path table, component=readout, key=trace has short segments that could cause issues with fillet. Values in (1-2) (19-21)  are index(es) in shapley geometry.\n",
      "05:24PM 09s WARNING [check_lengths]: For path table, component=readout, key=cut has short segments that could cause issues with fillet. Values in (1-2) (19-21)  are index(es) in shapley geometry.\n",
      "05:24PM 09s WARNING [add_pins_to_table]: Component: 193 and pin: tie are already in net_info with net_id 263\n",
      "05:24PM 09s WARNING [connect_pins]: NetId was not added for 193, tie, 188, start and will not be added to components.\n",
      "05:24PM 09s WARNING [add_pins_to_table]: Component: 194 and pin: open are already in net_info with net_id 264\n",
      "05:24PM 09s WARNING [connect_pins]: NetId was not added for 194, open, 188, end and will not be added to components.\n",
      "05:24PM 09s WARNING [check_lengths]: For path table, component=bus, key=trace has short segments that could cause issues with fillet. Values in (12-13)  are index(es) in shapley geometry.\n",
      "05:24PM 09s WARNING [check_lengths]: For path table, component=bus, key=cut has short segments that could cause issues with fillet. Values in (12-13)  are index(es) in shapley geometry.\n",
      "05:24PM 09s WARNING [check_lengths]: For path table, component=readout, key=trace has short segments that could cause issues with fillet. Values in (1-2) (19-21)  are index(es) in shapley geometry.\n",
      "05:24PM 09s WARNING [check_lengths]: For path table, component=readout, key=cut has short segments that could cause issues with fillet. Values in (1-2) (19-21)  are index(es) in shapley geometry.\n"
     ]
    }
   ],
   "source": [
    "otg1 = OpenToGround(design, 'open_to_ground1', options=dict(pos_x='0um', pos_y='0.9mm',\n",
    "orientation='180'))\n",
    "stg = ShortToGround(design, 'short_to_ground', options=dict(pos_x='0um', pos_y='-1.25mm',\n",
    "orientation='270')) \n",
    "\n",
    "from collections import OrderedDict\n",
    "jogs = OrderedDict()\n",
    "jogs[0] = [\"L\", '125um']\n",
    "#jogs[1] = [\"L\", '500um']\n",
    "jogs[1] = [\"R\", '100um']\n",
    "#jogs[3] = [\"R\", '125um']\n",
    "\n",
    "rt_meander = RouteMeander(design, 'readout', Dict(\n",
    "        total_length='4 mm',\n",
    "        hfss_wire_bonds = True,\n",
    "        fillet='90 um',\n",
    "        lead = Dict(\n",
    "        start_straight='0.2mm',\n",
    "        end_straight='0mm',\n",
    "        end_jogged_extension=jogs),\n",
    "        pin_inputs=Dict(\n",
    "            start_pin=Dict(component='short_to_ground', pin='short'),\n",
    "            end_pin=Dict(component='open_to_ground1', pin='open')), ))\n",
    "\n",
    "gui.rebuild()\n",
    "gui.autoscale()\n"
   ]
  },
  {
   "cell_type": "code",
   "execution_count": 82,
   "id": "8a6eb8ab",
   "metadata": {},
   "outputs": [
    {
     "name": "stderr",
     "output_type": "stream",
     "text": [
      "05:24PM 11s WARNING [add_pins_to_table]: Component: 199 and pin: tie are already in net_info with net_id 271\n",
      "05:24PM 11s WARNING [connect_pins]: NetId was not added for 199, tie, 188, start and will not be added to components.\n",
      "05:24PM 11s WARNING [add_pins_to_table]: Component: 200 and pin: open are already in net_info with net_id 272\n",
      "05:24PM 11s WARNING [connect_pins]: NetId was not added for 200, open, 188, end and will not be added to components.\n",
      "05:24PM 11s WARNING [check_lengths]: For path table, component=bus, key=trace has short segments that could cause issues with fillet. Values in (12-13)  are index(es) in shapley geometry.\n",
      "05:24PM 11s WARNING [check_lengths]: For path table, component=bus, key=cut has short segments that could cause issues with fillet. Values in (12-13)  are index(es) in shapley geometry.\n",
      "05:24PM 11s WARNING [add_pins_to_table]: Component: 199 and pin: tie are already in net_info with net_id 271\n",
      "05:24PM 11s WARNING [connect_pins]: NetId was not added for 199, tie, 195, start and will not be added to components.\n",
      "05:24PM 11s WARNING [add_pins_to_table]: Component: 200 and pin: open are already in net_info with net_id 272\n",
      "05:24PM 11s WARNING [connect_pins]: NetId was not added for 200, open, 195, end and will not be added to components.\n",
      "05:24PM 11s WARNING [check_lengths]: For path table, component=readout, key=trace has short segments that could cause issues with fillet. Values in (1-2) (19-21)  are index(es) in shapley geometry.\n",
      "05:24PM 11s WARNING [check_lengths]: For path table, component=readout, key=cut has short segments that could cause issues with fillet. Values in (1-2) (19-21)  are index(es) in shapley geometry.\n"
     ]
    }
   ],
   "source": [
    "#Setup the launchpad location and orientation.\n",
    "launch_options = dict(pos_x='-500um', pos_y='1150um', orientation='270', lead_length='30um')\n",
    "\n",
    "lp = LaunchpadWirebondCoupled(design, 'P4_Q', options = launch_options)\n",
    "\n",
    "#Setup the OpenToGround location and orientation.\n",
    "otg_options = dict(pos_x='0.75mm',  pos_y='1.05mm', orientation='0')\n",
    "\n",
    "otg2 = OpenToGround(design, 'open_to_ground2', options=otg_options)\n",
    "\n",
    "#After the two QComponents are added to design, connect them with a RouteMeander.\n",
    "meander_options = Dict(\n",
    "       # total_length='0.25 mm',\n",
    "        #fillet='4 um',\n",
    "      #  lead = dict(start_straight='0um'),\n",
    "        pin_inputs=Dict(\n",
    "            start_pin=Dict(component=lp.name, pin='tie'),\n",
    "            end_pin=Dict(component=otg2.name, pin='open')), )\n",
    "\n",
    "meander = RouteStraight(design, options=meander_options)\n",
    "gui.rebuild()\n",
    "gui.autoscale()"
   ]
  },
  {
   "cell_type": "code",
   "execution_count": null,
   "id": "4622a188",
   "metadata": {},
   "outputs": [],
   "source": []
  }
 ],
 "metadata": {
  "kernelspec": {
   "display_name": "Python 3",
   "language": "python",
   "name": "python3"
  },
  "language_info": {
   "codemirror_mode": {
    "name": "ipython",
    "version": 3
   },
   "file_extension": ".py",
   "mimetype": "text/x-python",
   "name": "python",
   "nbconvert_exporter": "python",
   "pygments_lexer": "ipython3",
   "version": "3.8.10"
  }
 },
 "nbformat": 4,
 "nbformat_minor": 5
}
