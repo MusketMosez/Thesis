{
 "cells": [
  {
   "cell_type": "code",
   "execution_count": null,
   "id": "42e0c9b8",
   "metadata": {},
   "outputs": [],
   "source": [
    "### Initial design of drawing a coplanar waveguide resonator \n",
    "\n",
    "\n",
    "# automatic reloading of modules when they change\n",
    "\n",
    "%load_ext autoreload\n",
    "%autoreload 2\n"
   ]
  },
  {
   "cell_type": "code",
   "execution_count": null,
   "id": "08287bd3",
   "metadata": {},
   "outputs": [],
   "source": [
    "# Import statements\n",
    "\n",
    "import qiskit_metal as metal\n",
    "from qiskit_metal import designs, draw\n",
    "from qiskit_metal import MetalGUI, Dict, Headings\n",
    "import pyEPR as epr\n",
    "\n",
    "from qiskit_metal.qlibrary.terminations.launchpad_wb_coupled import LaunchpadWirebondCoupled\n",
    "from qiskit_metal.qlibrary.terminations.open_to_ground import OpenToGround\n",
    "from qiskit_metal.qlibrary.terminations.short_to_ground import ShortToGround\n",
    "from qiskit_metal.qlibrary.tlines.meandered import RouteMeander\n",
    "from qiskit_metal.qlibrary.tlines.straight_path import RouteStraight"
   ]
  },
  {
   "cell_type": "code",
   "execution_count": null,
   "id": "4036a20c",
   "metadata": {},
   "outputs": [],
   "source": [
    "# Instantiate QDesign class and initialise user interface\n",
    "\n",
    "design = designs.DesignPlanar()\n",
    "gui = MetalGUI(design)\n",
    "hfss = design.renderers.hfss"
   ]
  },
  {
   "cell_type": "code",
   "execution_count": null,
   "id": "aa86dd4e",
   "metadata": {},
   "outputs": [],
   "source": [
    "# Allow overwriting\n",
    "\n",
    "design.overwrite_enabled = True"
   ]
  },
  {
   "cell_type": "code",
   "execution_count": null,
   "id": "43eec465",
   "metadata": {},
   "outputs": [],
   "source": [
    "otg1 = OpenToGround(design, 'open_to_ground1', options=dict(pos_x='0um', pos_y='0.9mm',\n",
    "orientation='180'))\n",
    "stg = ShortToGround(design, 'short_to_ground', options=dict(pos_x='0um', pos_y='-1.25mm',\n",
    "orientation='270')) \n",
    "\n",
    "from collections import OrderedDict\n",
    "jogs = OrderedDict()\n",
    "jogs[0] = [\"L\", '125um']\n",
    "#jogs[1] = [\"L\", '500um']\n",
    "jogs[1] = [\"R\", '100um']\n",
    "#jogs[3] = [\"R\", '125um']\n",
    "\n",
    "rt_meander = RouteMeander(design, 'readout', Dict(\n",
    "        total_length='4 mm',\n",
    "        hfss_wire_bonds = True,\n",
    "        fillet='20 um',\n",
    "        lead = Dict(\n",
    "        start_straight='0.2mm',\n",
    "        end_straight='0mm',\n",
    "        end_jogged_extension=jogs),\n",
    "        pin_inputs=Dict(\n",
    "            start_pin=Dict(component='short_to_ground', pin='short'),\n",
    "            end_pin=Dict(component='open_to_ground1', pin='open')), ))\n",
    "\n",
    "gui.rebuild()\n",
    "gui.autoscale()\n"
   ]
  },
  {
   "cell_type": "code",
   "execution_count": null,
   "id": "8a6eb8ab",
   "metadata": {},
   "outputs": [],
   "source": [
    "#Setup the launchpad location and orientation.\n",
    "launch_options1 = dict(pos_x='-500um', pos_y='1050um', orientation='0')\n",
    "\n",
    "lp = LaunchpadWirebondCoupled(design, 'P4_Q', options = launch_options1)\n",
    "\n",
    "#Setup the OpenToGround location and orientation.\n",
    "launch_options2 = dict(pos_x='0.75mm',  pos_y='1.05mm', orientation='180')\n",
    "\n",
    "lp2 = LaunchpadWirebondCoupled(design, 'P5_Q', options = launch_options2)\n",
    "\n",
    "#After the two QComponents are added to design, connect them with a RouteMeander.\n",
    "meander_options = Dict(\n",
    "       # total_length='0.25 mm',\n",
    "        #fillet='4 um',\n",
    "      #  lead = dict(start_straight='0um'),\n",
    "        pin_inputs=Dict(\n",
    "            start_pin=Dict(component=lp.name, pin='tie'),\n",
    "            end_pin=Dict(component=lp2.name, pin='tie')), )\n",
    "\n",
    "meander = RouteStraight(design, 'feed',options=meander_options)\n",
    "gui.rebuild()\n",
    "gui.autoscale()"
   ]
  },
  {
   "cell_type": "code",
   "execution_count": null,
   "id": "4622a188",
   "metadata": {},
   "outputs": [],
   "source": [
    "# Screenshot the canvas only as a .png formatted file.\n",
    "#gui.figure.savefig('shot.png')\n",
    "\n",
    "#from IPython.display import Image, display\n",
    "#_disp_ops = dict(width=500)\n",
    "#display(Image('shot.png', **_disp_ops))"
   ]
  },
  {
   "cell_type": "code",
   "execution_count": null,
   "id": "e4909b2e",
   "metadata": {},
   "outputs": [],
   "source": [
    "hfss.open_ansys(path = 'C:\\Program Files\\AnsysEM\\AnsysEM19.3\\Win64')"
   ]
  },
  {
   "cell_type": "code",
   "execution_count": null,
   "id": "432965a3",
   "metadata": {},
   "outputs": [],
   "source": [
    "hfss.connect_ansys()"
   ]
  },
  {
   "cell_type": "code",
   "execution_count": null,
   "id": "ee52aad0",
   "metadata": {},
   "outputs": [],
   "source": [
    "hfss.activate_eigenmode_design(\"Readout\")"
   ]
  },
  {
   "cell_type": "code",
   "execution_count": null,
   "id": "d5df14d6",
   "metadata": {},
   "outputs": [],
   "source": [
    "hfss.render_design(['short_to_ground', 'readout', 'open_to_ground1', lp.name, 'feed', lp2.name], [])\n",
    "hfss.save_screenshot()"
   ]
  },
  {
   "cell_type": "code",
   "execution_count": null,
   "id": "7e939cfa",
   "metadata": {},
   "outputs": [],
   "source": [
    "hfss.disconnect_ansys()"
   ]
  },
  {
   "cell_type": "code",
   "execution_count": null,
   "id": "e8ecf6c5",
   "metadata": {},
   "outputs": [],
   "source": []
  }
 ],
 "metadata": {
  "kernelspec": {
   "display_name": "Python 3",
   "language": "python",
   "name": "python3"
  },
  "language_info": {
   "codemirror_mode": {
    "name": "ipython",
    "version": 3
   },
   "file_extension": ".py",
   "mimetype": "text/x-python",
   "name": "python",
   "nbconvert_exporter": "python",
   "pygments_lexer": "ipython3",
   "version": "3.9.4"
  }
 },
 "nbformat": 4,
 "nbformat_minor": 5
}
