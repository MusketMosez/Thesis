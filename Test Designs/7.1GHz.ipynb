{
 "cells": [
  {
   "cell_type": "code",
   "execution_count": null,
   "id": "16a07333",
   "metadata": {},
   "outputs": [],
   "source": [
    "### Initial design of drawing a coplanar waveguide resonator \n",
    "\n",
    "\n",
    "# automatic reloading of modules when they change\n",
    "\n",
    "%load_ext autoreload\n",
    "%autoreload 2\n"
   ]
  },
  {
   "cell_type": "code",
   "execution_count": null,
   "id": "2a3768f7",
   "metadata": {},
   "outputs": [],
   "source": [
    "# Import statements\n",
    "\n",
    "import qiskit_metal as metal\n",
    "from qiskit_metal import designs, draw\n",
    "from qiskit_metal import MetalGUI, Dict, Headings\n",
    "import pyEPR as epr\n",
    "\n",
    "from qiskit_metal.qlibrary.terminations.launchpad_wb import LaunchpadWirebond\n",
    "from qiskit_metal.qlibrary.terminations.open_to_ground import OpenToGround\n",
    "from qiskit_metal.qlibrary.terminations.short_to_ground import ShortToGround\n",
    "from qiskit_metal.qlibrary.tlines.meandered import RouteMeander\n",
    "from qiskit_metal.qlibrary.tlines.straight_path import RouteStraight\n",
    "from qiskit_metal.qlibrary.couplers.coupled_line_tee import CoupledLineTee"
   ]
  },
  {
   "cell_type": "code",
   "execution_count": null,
   "id": "3646d725",
   "metadata": {},
   "outputs": [],
   "source": [
    "# Instantiate QDesign class and initialise user interface\n",
    "\n",
    "design = designs.DesignPlanar({}, True)\n",
    "design.chips.main.size['size_x'] = '2mm'\n",
    "design.chips.main.size['size_y'] = '2mm'\n",
    "design.chips.main.size['size_z'] = '-500um'\n",
    "design.chips.main.size['sample_holder_bottom'] = '500um'\n",
    "design.chips.main.size['sample_holder_top'] = '2000um'\n",
    "\n",
    "\n",
    "# Set hfss as renderer for design\n",
    "hfss = design.renderers.hfss"
   ]
  },
  {
   "cell_type": "code",
   "execution_count": null,
   "id": "225a1252",
   "metadata": {},
   "outputs": [],
   "source": [
    "# Allow overwriting\n",
    "gui = MetalGUI(design)\n",
    "design.overwrite_enabled = True"
   ]
  },
  {
   "cell_type": "code",
   "execution_count": null,
   "id": "f7cb0672",
   "metadata": {},
   "outputs": [],
   "source": [
    "#Add hanger of capacitively coupled transmission lines\n",
    "TQ1 = CoupledLineTee(design, 'TQ1', options=dict(pos_x='0mm',\n",
    "                     pos_y='0.8mm',\n",
    "                     coupling_space='3um',\n",
    "                     coupling_length='100um'))\n",
    "\n",
    "gui.rebuild()\n",
    "gui.autoscale()"
   ]
  },
  {
   "cell_type": "code",
   "execution_count": null,
   "id": "52a87a63",
   "metadata": {},
   "outputs": [],
   "source": [
    "stg = ShortToGround(design, 'short_to_ground', options=dict(pos_x='0um', pos_y='0.5mm',\n",
    "orientation='270')) \n"
   ]
  },
  {
   "cell_type": "code",
   "execution_count": null,
   "id": "07cd0c75",
   "metadata": {},
   "outputs": [],
   "source": [
    "# Create open pin for resonator\n",
    "\n",
    "otg1 = OpenToGround(design, 'open_to_ground1', options=dict(pos_x='0um', pos_y='-0.95mm',\n",
    "orientation='180'))\n",
    "\n",
    "\n",
    "# Jogs to allow bending of open end of CPW\n",
    "# So far does not render in hfss\n",
    "from collections import OrderedDict\n",
    "jogs = OrderedDict()\n",
    "jogs[0] = [\"L\", '125um']\n",
    "jogs[1] = [\"R\", '100um']\n",
    "#jogs[2] = [\"L\", '100um']\n",
    "\n",
    "jogs2 = OrderedDict()\n",
    "jogs2[0] = [\"R\", '100um']\n",
    "jogs2[1] = [\"L\", '110um' ]\n",
    "\n",
    "# Create meandered resonator between shorted and opened pin\n",
    "rt_meander = RouteMeander(design, 'readout', Dict(\n",
    "        total_length='4.18 mm',\n",
    "        hfss_wire_bonds = True,\n",
    "        fillet='70 um',\n",
    "        #fillet='80 um',\n",
    "        lead = Dict(\n",
    "        start_straight='0.1mm',\n",
    "        end_straight='0mm'),\n",
    "        #start_jogged_extensions=jogs2,\n",
    "        #end_jogged_extension=jogs),\n",
    "        meander=Dict(\n",
    "        #spacing = '200um'),\n",
    "        spacing = '150um'),\n",
    "        pin_inputs=Dict(\n",
    "            start_pin=Dict(component='TQ1', pin='second_end'),\n",
    "            #start_pin=Dict(component='short_to_ground', pin='short'),\n",
    "            end_pin=Dict(component='open_to_ground1', pin='open')), ))\n",
    "\n",
    "gui.rebuild()\n",
    "gui.autoscale()"
   ]
  },
  {
   "cell_type": "code",
   "execution_count": null,
   "id": "2c4fd828",
   "metadata": {},
   "outputs": [],
   "source": [
    "#rt_meander.options\n",
    "design.chips"
   ]
  },
  {
   "cell_type": "code",
   "execution_count": null,
   "id": "8bbe105e",
   "metadata": {},
   "outputs": [],
   "source": [
    "#Setup the launchpad location and orientation.\n",
    "launch_options1 = dict(pos_x='-500um', pos_y='0.8mm', orientation='0')\n",
    "\n",
    "lp = LaunchpadWirebond(design, 'P4_Q', options = launch_options1)\n",
    "\n",
    "#otg2 = OpenToGround(design, 'open_to_ground2', options=dict(pos_x='-0.5mm', pos_y='0.8mm',\n",
    "#orientation='0'))\n",
    "\n",
    "\n",
    "\n",
    "#Setup the OpenToGround location and orientation.\n",
    "launch_options2 = dict(pos_x='0.5mm',  pos_y='0.8mm', orientation='180')\n",
    "\n",
    "lp2 = LaunchpadWirebond(design, 'P5_Q', options = launch_options2)\n",
    "\n",
    "\n",
    "#otg3 = OpenToGround(design, 'open_to_ground3', options=dict(pos_x='0.5mm', pos_y='0.8mm',\n",
    "#orientation='180'))\n",
    "\n",
    "#After the two QComponents are added to design, connect them with a RouteMeander.\n",
    "meander_options_left = Dict(\n",
    "        hfss_wire_bonds = True,\n",
    "        pin_inputs=Dict(\n",
    "            start_pin=Dict(component='TQ1', pin='prime_start'),\n",
    "            end_pin=Dict(component=lp.name, pin='tie')), )\n",
    "\n",
    "meander_options_right = Dict(\n",
    "        hfss_wire_bonds = True,\n",
    "        pin_inputs=Dict(\n",
    "            start_pin=Dict(component='TQ1', pin='prime_end'),\n",
    "            end_pin=Dict(component=lp2.name, pin='tie')), )\n",
    "\n",
    "\n",
    "meander_left = RouteStraight(design, 'cpw_left',options=meander_options_left)\n",
    "meander_right = RouteStraight(design, 'cpw_right',options=meander_options_right)\n",
    "\n",
    "gui.rebuild()\n",
    "gui.autoscale()"
   ]
  },
  {
   "cell_type": "code",
   "execution_count": null,
   "id": "327af230",
   "metadata": {},
   "outputs": [],
   "source": [
    "lp.pin_names"
   ]
  },
  {
   "cell_type": "code",
   "execution_count": null,
   "id": "a80ae650",
   "metadata": {},
   "outputs": [],
   "source": [
    "hfss.open_ansys(path = 'C:\\Program Files\\AnsysEM\\AnsysEM19.3\\Win64')"
   ]
  },
  {
   "cell_type": "code",
   "execution_count": null,
   "id": "c2f71070",
   "metadata": {},
   "outputs": [],
   "source": [
    "hfss.connect_ansys()"
   ]
  },
  {
   "cell_type": "code",
   "execution_count": null,
   "id": "def5e4bf",
   "metadata": {},
   "outputs": [],
   "source": [
    "##############################################\n",
    "# BELOW cells are for drivenmodal simulation #\n",
    "##############################################"
   ]
  },
  {
   "cell_type": "code",
   "execution_count": null,
   "id": "04da83bc",
   "metadata": {},
   "outputs": [],
   "source": [
    "hfss.activate_drivenmodal_design(\"S-parameter estimation\")"
   ]
  },
  {
   "cell_type": "code",
   "execution_count": null,
   "id": "83c41d87",
   "metadata": {},
   "outputs": [],
   "source": [
    "hfss.clean_active_design()"
   ]
  },
  {
   "cell_type": "code",
   "execution_count": null,
   "id": "ce1b21ec",
   "metadata": {},
   "outputs": [],
   "source": [
    "hfss.add_mesh()"
   ]
  },
  {
   "cell_type": "code",
   "execution_count": null,
   "id": "210ba35a",
   "metadata": {},
   "outputs": [],
   "source": [
    "hfss.render_design([],\n",
    "                   [],\n",
    "                  #[('cpw_right', 'end', 50), ('cpw_left', 'end', 50)],\n",
    "                  [(lp.name, 'tie', 50), (lp2.name, 'tie', 50)],\n",
    "                  [],\n",
    "                  [],\n",
    "                  box_plus_buffer=False)"
   ]
  },
  {
   "cell_type": "code",
   "execution_count": null,
   "id": "e7e061c7",
   "metadata": {},
   "outputs": [],
   "source": [
    "design._chips['main']['size']['size_x'] = '1.46mm'\n",
    "design._chips['main']['size']['size_y'] = '2.6mm'"
   ]
  },
  {
   "cell_type": "code",
   "execution_count": null,
   "id": "ed246ace",
   "metadata": {},
   "outputs": [],
   "source": [
    "hfss.default_options"
   ]
  },
  {
   "cell_type": "code",
   "execution_count": null,
   "id": "7c03877a",
   "metadata": {},
   "outputs": [],
   "source": [
    "hfss.add_sweep(setup_name=\"Setup\",\n",
    "               name=\"Sweep\",\n",
    "               start_ghz=4.0,\n",
    "               stop_ghz=15.0,\n",
    "               count=20001,\n",
    "               type=\"Interpolating\")"
   ]
  },
  {
   "cell_type": "code",
   "execution_count": null,
   "id": "12451458",
   "metadata": {
    "scrolled": true
   },
   "outputs": [],
   "source": [
    "hfss.analyze_sweep('Sweep', 'Setup')"
   ]
  },
  {
   "cell_type": "code",
   "execution_count": null,
   "id": "3c3c1709",
   "metadata": {},
   "outputs": [],
   "source": [
    "hfss.plot_params(['S11', 'S21'])"
   ]
  },
  {
   "cell_type": "code",
   "execution_count": null,
   "id": "7feb412b",
   "metadata": {},
   "outputs": [],
   "source": [
    "#################################\n",
    "# END OF DRIVENMODAL SIMULATION #\n",
    "#################################\n",
    "############################################"
   ]
  },
  {
   "cell_type": "code",
   "execution_count": null,
   "id": "2b00077d",
   "metadata": {},
   "outputs": [],
   "source": [
    "############################################\n",
    "# BELOW CELLS ARE FOR EIGENMODE SIMULATION #\n",
    "############################################\n",
    "\n"
   ]
  },
  {
   "cell_type": "code",
   "execution_count": null,
   "id": "afdb83cd",
   "metadata": {},
   "outputs": [],
   "source": [
    "hfss.activate_eigenmode_design(\"Readout\")"
   ]
  },
  {
   "cell_type": "code",
   "execution_count": null,
   "id": "8126459b",
   "metadata": {},
   "outputs": [],
   "source": [
    "design._chips['main']['size']['size_x'] = '6mm'\n",
    "design._chips['main']['size']['size_y'] = '5.5mm'"
   ]
  },
  {
   "cell_type": "code",
   "execution_count": null,
   "id": "e11c10a5",
   "metadata": {},
   "outputs": [],
   "source": [
    "hfss.render_design([],[], box_plus_buffer=False)"
   ]
  },
  {
   "cell_type": "code",
   "execution_count": null,
   "id": "425f78f9",
   "metadata": {},
   "outputs": [],
   "source": [
    "setup = hfss.pinfo.setup\n",
    "setup.passes = 20\n",
    "print(f\"\"\"\n",
    "Number of eigenmodes to find             = {setup.n_modes}\n",
    "Number of simulation passes              = {setup.passes}\n",
    "Convergence freq max delta percent diff  = {setup.delta_f}\n",
    "\"\"\")\n",
    "\n",
    "pinfo = hfss.pinfo\n",
    "pinfo.design.set_variable('Lj', '10 nH')\n",
    "pinfo.design.set_variable('Cj', '0 fF')\n",
    "setup.analyze()\n",
    "\n",
    "hfss.plot_convergences()"
   ]
  },
  {
   "cell_type": "code",
   "execution_count": null,
   "id": "94e4ba02",
   "metadata": {},
   "outputs": [],
   "source": [
    "hfss.disconnect_ansys()\n"
   ]
  },
  {
   "cell_type": "markdown",
   "id": "0ec0e324",
   "metadata": {},
   "source": []
  }
 ],
 "metadata": {
  "kernelspec": {
   "display_name": "Python 3",
   "language": "python",
   "name": "python3"
  },
  "language_info": {
   "codemirror_mode": {
    "name": "ipython",
    "version": 3
   },
   "file_extension": ".py",
   "mimetype": "text/x-python",
   "name": "python",
   "nbconvert_exporter": "python",
   "pygments_lexer": "ipython3",
   "version": "3.9.4"
  }
 },
 "nbformat": 4,
 "nbformat_minor": 5
}
