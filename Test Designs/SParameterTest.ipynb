{
 "cells": [
  {
   "cell_type": "code",
   "execution_count": null,
   "id": "505f43ce",
   "metadata": {},
   "outputs": [],
   "source": [
    "%load_ext autoreload\n",
    "%autoreload 2\n",
    "\n",
    "import qiskit_metal as metal\n",
    "from qiskit_metal import designs, draw\n",
    "from qiskit_metal import MetalGUI, Dict, Headings\n",
    "import pyEPR as epr"
   ]
  },
  {
   "cell_type": "code",
   "execution_count": null,
   "id": "b844ba2a",
   "metadata": {},
   "outputs": [],
   "source": [
    "# set up a desogn of a given dimension. Dimensions will be respected\n",
    "# in the design rendering. Note the chip design in centred at origin (0,0)\n",
    "\n",
    "design = designs.DesignPlanar({}, True)\n",
    "design.chips.main.size['size_x'] = '2mm'\n",
    "design.chips.main.size['size_y'] = '2mm'\n",
    "\n",
    "#Reference to Ansys hfss QRenderer\n",
    "hfss = design.renderers.hfss\n",
    "\n",
    "gui = MetalGUI(design)"
   ]
  },
  {
   "cell_type": "code",
   "execution_count": null,
   "id": "ac6c28aa",
   "metadata": {},
   "outputs": [],
   "source": [
    "from qiskit_metal.qlibrary.couplers.coupled_line_tee import CoupledLineTee\n",
    "from qiskit_metal.qlibrary.tlines.meandered import RouteMeander\n",
    "from qiskit_metal.qlibrary.qubits.transmon_pocket import TransmonPocket\n",
    "from qiskit_metal.qlibrary.tlines.straight_path import RouteStraight\n",
    "from qiskit_metal.qlibrary.terminations.open_to_ground import OpenToGround"
   ]
  },
  {
   "cell_type": "code",
   "execution_count": null,
   "id": "055af2c7",
   "metadata": {},
   "outputs": [],
   "source": [
    "#Add 2 transmons to the design\n",
    "options = dict(\n",
    "    # Some options we want to modify from the defaults\n",
    "    # (see below for defaults)\n",
    "    pad_width = '425 um',\n",
    "    pocket_height = '650 um',\n",
    "    # Adding 4 connectors (see below for defaults)\n",
    "    connection_pads=dict(\n",
    "        a = dict(loc_W=+1,loc_H=+1),\n",
    "        b = dict(loc_W=-1,loc_H=+1, pad_height='30um'),\n",
    "        c = dict(loc_W=+1,loc_H=-1, pad_width='200um'),\n",
    "        d = dict(loc_W=-1,loc_H=-1, pad_height='50um')\n",
    "    )\n",
    ")\n",
    "\n",
    "## Create 2 transmons\n",
    "\n",
    "q1 = TransmonPocket(design, 'Q1', options = dict(\n",
    "    pos_x='+1.4mm', pos_y='0mm', orientation = '90', **options))\n",
    "q2 = TransmonPocket(design, 'Q2', options=dict(\n",
    "    pos_x='-0.6mm', pos_y='0mm', orientation = '90', **options))\n",
    "\n",
    "gui.rebuild()\n",
    "gui.autoscale()"
   ]
  },
  {
   "cell_type": "code",
   "execution_count": null,
   "id": "27f07b28",
   "metadata": {},
   "outputs": [],
   "source": [
    "# Add 2 hangers consisting of capacitively coupled transmission lines\n",
    "TQ1 = CoupledLineTee(design, 'TQ1', options=dict(pos_x='1mm',\n",
    "                                                pos_y='3mm',\n",
    "                                                coupling_length='200um'))\n",
    "TQ2 = CoupledLineTee(design, 'TQ2', options=dict(pos_x='-1mm',\n",
    "                                                pos_y='3mm',\n",
    "                                                coupling_length='200um'))\n",
    "gui.rebuild()\n",
    "gui.autoscale()"
   ]
  },
  {
   "cell_type": "code",
   "execution_count": null,
   "id": "b39cc219",
   "metadata": {},
   "outputs": [],
   "source": [
    "#Add 2 meandered CPWs connecting the transmons to the hangers.\n",
    "\n",
    "ops=dict(fillet='90um')\n",
    "design.overwrite_enabled = True\n",
    "\n",
    "options1 = Dict(\n",
    "    total_length='8mm',\n",
    "    hfss_wire_bonds = True,\n",
    "    pin_inputs=Dict(\n",
    "        start_pin=Dict(\n",
    "            component='TQ1',\n",
    "            pin='second_end'),\n",
    "        end_pin=Dict(\n",
    "            component='Q1',\n",
    "            pin='a')),\n",
    "    lead=Dict(\n",
    "        start_straight='0.1mm'),\n",
    "    **ops\n",
    ")\n",
    "\n",
    "options2 = Dict(\n",
    "    total_length='9mm',\n",
    "    hfss_wire_bonds = True,\n",
    "    pin_inputs=Dict(\n",
    "        start_pin=Dict(\n",
    "            component='TQ2',\n",
    "            pin='second_end'),\n",
    "        end_pin=Dict(\n",
    "            component='Q2',\n",
    "            pin= 'a')),\n",
    "    lead=Dict(\n",
    "        start_straight='0.1mm'),\n",
    "    **ops\n",
    ")\n",
    "\n",
    "meanderQ1 = RouteMeander(design, 'meanderQ1', options=options1)\n",
    "meanderQ2 = RouteMeander(design, 'meanderQ2', options=options2)\n",
    "\n",
    "gui.rebuild()\n",
    "gui.autoscale()"
   ]
  },
  {
   "cell_type": "code",
   "execution_count": null,
   "id": "ebaf8d3d",
   "metadata": {},
   "outputs": [],
   "source": [
    "# Add 2 open to grounds at the ends of the horizontal CPW\n",
    "otg1 = OpenToGround(design, 'otg1', options = dict(pos_x='3mm',\n",
    "                                                   pos_y='3mm'))\n",
    "otg2 = OpenToGround(design, 'otg2', options = dict(pos_x = '-3mm',\n",
    "                                                   pos_y='3mm',\n",
    "                                                   orientation='180'))\n",
    "\n",
    "gui.rebuild()\n",
    "gui.autoscale()"
   ]
  },
  {
   "cell_type": "code",
   "execution_count": null,
   "id": "83ed5375",
   "metadata": {},
   "outputs": [],
   "source": [
    "# Add 3 straight CPWs that comprise the long horizontal CPW.\n",
    "\n",
    "ops_oR = Dict(hfss_wire_bonds = True,\n",
    "              pin_inputs=Dict(\n",
    "                  start_pin=Dict(\n",
    "                      component='TQ1',\n",
    "                      pin='prime_end'),\n",
    "                  end_pin=Dict(\n",
    "                      component='otg1',\n",
    "                      pin='open')))\n",
    "ops_mid = Dict(hfss_wire_bonds = True,\n",
    "               pin_inputs=Dict(\n",
    "                 start_pin=Dict(\n",
    "                     component='TQ1',\n",
    "                     pin='prime_start'),\n",
    "                 end_pin=Dict(\n",
    "                     component='TQ2',\n",
    "                     pin='prime_end')))\n",
    "ops_oL = Dict(hfss_wire_bonds = True,\n",
    "              pin_inputs=Dict(\n",
    "                  start_pin=Dict(\n",
    "                      component='TQ2',\n",
    "                      pin='prime_start'),\n",
    "                  end_pin=Dict(\n",
    "                      component='otg2',\n",
    "                      pin='open')))\n",
    "\n",
    "cpw_openRight = RouteStraight(design, 'cpw_openRight', options=ops_oR)\n",
    "cpw_middle = RouteStraight(design, 'cpw_middle', options=ops_mid)\n",
    "cpw_openLeft = RouteStraight(design, 'cpw_openLeft', options=ops_oL)\n",
    "\n",
    "gui.rebuild()\n",
    "gui.autoscale()\n"
   ]
  },
  {
   "cell_type": "code",
   "execution_count": null,
   "id": "3fa8a49d",
   "metadata": {},
   "outputs": [],
   "source": [
    "hfss.open_ansys(path = 'C:\\Program Files\\AnsysEM\\AnsysEM19.3\\Win64')\n"
   ]
  },
  {
   "cell_type": "code",
   "execution_count": null,
   "id": "e134f828",
   "metadata": {},
   "outputs": [],
   "source": [
    "hfss.connect_ansys()"
   ]
  },
  {
   "cell_type": "code",
   "execution_count": null,
   "id": "9f1ef313",
   "metadata": {},
   "outputs": [],
   "source": [
    "hfss.activate_drivenmodal_design(\"HangingResonators\")"
   ]
  },
  {
   "cell_type": "code",
   "execution_count": null,
   "id": "b80c4206",
   "metadata": {},
   "outputs": [],
   "source": [
    "# Set the buffer width at the edge of the design to be -.5 mm in \n",
    "# both directions.\n",
    "\n",
    "hfss.options['x_buffer_width_mm'] = 0.5\n",
    "hfss.options['y_buffer_width_mm'] = 0.5"
   ]
  },
  {
   "cell_type": "code",
   "execution_count": null,
   "id": "97f04853",
   "metadata": {},
   "outputs": [],
   "source": [
    "# Here, pin cpw_openRight_end and cpw_openLeft_end are converted\n",
    "# into lumped ports, each with an impedance of 50 Ohms. Neither of the \n",
    "# junctions in Q1 or Q2 are rendered. As a reminder, arguments are given\n",
    "# as First parameter: List of components to render (empty list if rendering\n",
    "# whole Metal design) Second parameter: list of pins (qcomp, pin) with open\n",
    "# endcaps Third parameter: List of pins (qcomp, pin, impedance) to render\n",
    "# as lumped ports Fourth parameter: List of junctions (qcomp, qgeometry_name,\n",
    "# impendance, draw_ind) to render as lumped ports or as lumped port in parallel\n",
    "# with a sheet inductance Fifth parameter: List of junctions (qcomp, qgeometry_name)\n",
    "# to omit altogether during rendering Sixth parameter: Whether to render chip\n",
    "# via box plus buffer or fixed chip size\n",
    "\n",
    "hfss.render_design([],\n",
    "            [],\n",
    "            [('cpw_openRight', 'end', 50), ('cpw_openLeft', 'end', 50)],\n",
    "            [],\n",
    "            [('Q1', 'rect_jj'), ('Q2', 'rect_jj')],\n",
    "            box_plus_buffer=False)"
   ]
  },
  {
   "cell_type": "code",
   "execution_count": null,
   "id": "e9fcabd4",
   "metadata": {},
   "outputs": [],
   "source": [
    "hfss.add_sweep(setup_name=\"Setup\",\n",
    "               name=\"Sweep\",\n",
    "               start_ghz=4.0,\n",
    "               stop_ghz=8.0,\n",
    "               count=4001,\n",
    "               type=\"Interpolating\")"
   ]
  },
  {
   "cell_type": "code",
   "execution_count": null,
   "id": "73ef0561",
   "metadata": {},
   "outputs": [],
   "source": [
    "hfss.analyze_sweep('Sweep', 'Setup')"
   ]
  },
  {
   "cell_type": "code",
   "execution_count": null,
   "id": "e72a4646",
   "metadata": {},
   "outputs": [],
   "source": [
    "\n",
    "    "
   ]
  },
  {
   "cell_type": "code",
   "execution_count": null,
   "id": "b7885fde",
   "metadata": {
    "scrolled": false
   },
   "outputs": [],
   "source": [
    "hfss.plot_params(['S11', 'S21'])"
   ]
  },
  {
   "cell_type": "code",
   "execution_count": null,
   "id": "1c4c149a",
   "metadata": {},
   "outputs": [],
   "source": [
    "hfss.disconnect_ansys()"
   ]
  },
  {
   "cell_type": "code",
   "execution_count": null,
   "id": "7bc4f68f",
   "metadata": {},
   "outputs": [],
   "source": []
  }
 ],
 "metadata": {
  "kernelspec": {
   "display_name": "Python 3",
   "language": "python",
   "name": "python3"
  },
  "language_info": {
   "codemirror_mode": {
    "name": "ipython",
    "version": 3
   },
   "file_extension": ".py",
   "mimetype": "text/x-python",
   "name": "python",
   "nbconvert_exporter": "python",
   "pygments_lexer": "ipython3",
   "version": "3.9.4"
  }
 },
 "nbformat": 4,
 "nbformat_minor": 5
}
