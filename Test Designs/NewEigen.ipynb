{
 "cells": [
  {
   "cell_type": "code",
   "execution_count": null,
   "id": "344a325d",
   "metadata": {},
   "outputs": [],
   "source": [
    "%load_ext autoreload\n",
    "%autoreload 2\n",
    "\n",
    "import qiskit_metal as metal\n",
    "from qiskit_metal import designs, draw\n",
    "from qiskit_metal import MetalGUI, Dict, Headings\n",
    "import pyEPR as epr"
   ]
  },
  {
   "cell_type": "code",
   "execution_count": null,
   "id": "ecd68702",
   "metadata": {},
   "outputs": [],
   "source": [
    "from qiskit_metal.qlibrary.tlines.meandered import RouteMeander\n",
    "from qiskit_metal.qlibrary.terminations.open_to_ground import OpenToGround\n",
    "from qiskit_metal.qlibrary.terminations.short_to_ground import ShortToGround\n",
    "from qiskit_metal.qlibrary.couplers.coupled_line_tee import CoupledLineTee\n",
    "\n",
    "# Instantiate QDesign class and initialise user interface\n",
    "\n",
    "design = designs.DesignPlanar({}, True)\n",
    "design.chips.main.size['size_x'] = '2mm'\n",
    "design.chips.main.size['size_y'] = '2mm'\n",
    "design.chips.main.size['size_z'] = '-500um'\n",
    "design.chips.main.size['sample_holder_bottom'] = '500um'\n",
    "design.chips.main.size['sample_holder_top'] = '2000um'\n",
    "\n",
    "\n",
    "\n",
    "# Set hfss as renderer for design\n",
    "#hfss = design.renderers.hfss\n",
    "# Allow overwriting\n",
    "gui = MetalGUI(design)\n",
    "design.overwrite_enabled = True\n",
    "\n",
    "#design.delete_all_components()\n",
    "\n",
    "\n",
    "\n"
   ]
  },
  {
   "cell_type": "code",
   "execution_count": null,
   "id": "e85a4197",
   "metadata": {},
   "outputs": [],
   "source": [
    "stg = ShortToGround(design, 'short_to_ground', options=dict(pos_x='-0.5mm',  pos_y='0um', orientation='180'))"
   ]
  },
  {
   "cell_type": "code",
   "execution_count": null,
   "id": "3dd11fc8",
   "metadata": {},
   "outputs": [],
   "source": [
    "#Add hanger of capacitively coupled transmission lines\n",
    "TQ1 = CoupledLineTee(design, 'TQ1', options=dict(pos_x='-0.5mm',\n",
    "                     pos_y='0mm',\n",
    "                     coupling_length='200um',\n",
    "                     coupling_space='1um',\n",
    "                     rotation = '90'))\n",
    "\n",
    "gui.rebuild()\n",
    "gui.autoscale()"
   ]
  },
  {
   "cell_type": "code",
   "execution_count": null,
   "id": "6a0b7754",
   "metadata": {},
   "outputs": [],
   "source": [
    "otg1 = OpenToGround(design, 'open_to_ground', options=dict(pos_x='1mm',  pos_y='0um', orientation='0'))\n",
    "rt_meander = RouteMeander(design, 'readout',  Dict(\n",
    "        total_length='4.18 mm',\n",
    "        hfss_wire_bonds = True,\n",
    "        fillet='90 um',\n",
    "        lead = dict(start_straight='100um'),\n",
    "        pin_inputs=Dict(\n",
    "            start_pin=Dict(component='TQ1', pin='second_end'),\n",
    "            end_pin=Dict(component='open_to_ground', pin='open')), ))\n",
    "\n",
    "gui.rebuild()\n",
    "gui.autoscale()"
   ]
  },
  {
   "cell_type": "code",
   "execution_count": null,
   "id": "2aba7d8e",
   "metadata": {},
   "outputs": [],
   "source": [
    "#Setup the launchpad location and orientation.\n",
    "from qiskit_metal.qlibrary.tlines.straight_path import RouteStraight\n",
    "\n",
    "\n",
    "#launch_options1 = dict(pos_x='1.25mm', pos_y='0.9mm', orientation='180')\n",
    "\n",
    "#lp = LaunchpadWirebond(design, 'P4_Q', options = launch_options1)\n",
    "\n",
    "otg2 = OpenToGround(design, 'open_to_ground2', options=dict(pos_x='-0.5mm', pos_y='1.25mm',\n",
    "orientation='0'))\n",
    "\n",
    "\n",
    "\n",
    "#Setup the OpenToGround location and orientation.\n",
    "#launch_options2 = dict(pos_x='-1.25mm',  pos_y='0.9mm', orientation='0')\n",
    "\n",
    "#lp2 = LaunchpadWirebond(design, 'P5_Q', options = launch_options2)\n",
    "\n",
    "\n",
    "otg3 = OpenToGround(design, 'open_to_ground3', options=dict(pos_x='-0.5mm', pos_y='-1.25mm',\n",
    "orientation='180'))\n",
    "\n",
    "#After the two QComponents are added to design, connect them with a RouteMeander.\n",
    "meander_options_left = Dict(\n",
    "        pin_inputs=Dict(\n",
    "            start_pin=Dict(component='TQ1', pin='prime_start'),\n",
    "            end_pin=Dict(component=otg3.name, pin='open')), )\n",
    "\n",
    "meander_options_right = Dict(\n",
    "        pin_inputs=Dict(\n",
    "            start_pin=Dict(component='TQ1', pin='prime_end'),\n",
    "            end_pin=Dict(component=otg2.name, pin='open')), )\n",
    "\n",
    "\n",
    "meander_left = RouteStraight(design, 'cpw_left',options=meander_options_left)\n",
    "meander_right = RouteStraight(design, 'cpw_right',options=meander_options_right)\n",
    "\n",
    "gui.rebuild()\n",
    "gui.autoscale()"
   ]
  },
  {
   "cell_type": "code",
   "execution_count": null,
   "id": "21abf112",
   "metadata": {},
   "outputs": [],
   "source": [
    "from qiskit_metal.analyses.quantization import EPRanalysis\n",
    "eig_res = EPRanalysis(design, \"hfss\")"
   ]
  },
  {
   "cell_type": "code",
   "execution_count": null,
   "id": "e73ed98c",
   "metadata": {},
   "outputs": [],
   "source": [
    "hfss = eig_res.sim.renderer"
   ]
  },
  {
   "cell_type": "code",
   "execution_count": null,
   "id": "c2dc3db3",
   "metadata": {},
   "outputs": [],
   "source": [
    "hfss.open_ansys(path = 'C:\\Program Files\\AnsysEM\\AnsysEM19.3\\Win64')"
   ]
  },
  {
   "cell_type": "code",
   "execution_count": null,
   "id": "348fbf75",
   "metadata": {},
   "outputs": [],
   "source": [
    "hfss.connect_ansys()"
   ]
  },
  {
   "cell_type": "code",
   "execution_count": null,
   "id": "f5a2ecc7",
   "metadata": {},
   "outputs": [],
   "source": [
    "hfss.activate_ansys_design(\"Readout\", 'eigenmode') "
   ]
  },
  {
   "cell_type": "code",
   "execution_count": null,
   "id": "74b97d03",
   "metadata": {},
   "outputs": [],
   "source": [
    "hfss.render_design(['short_to_ground', 'readout', 'open_to_ground', 'TQ1', otg2.name, otg3.name, 'cpw_left', 'cpw_right'], [])"
   ]
  },
  {
   "cell_type": "code",
   "execution_count": null,
   "id": "227f9a85",
   "metadata": {},
   "outputs": [],
   "source": [
    "# Analysis properties\n",
    "setup = hfss.pinfo.setup\n",
    "setup.passes = 20\n",
    "print(f\"\"\"\n",
    "Number of eigenmodes to find             = {setup.n_modes}\n",
    "Number of simulation passes              = {setup.passes}\n",
    "Convergence freq max delta percent diff  = {setup.delta_f}\n",
    "\"\"\")\n",
    "\n",
    "# Next 2 lines are counterinuitive, since there is no junction in this resonator.\n",
    "# However, these are necessary to make pyEPR work correctly. Please do note delete\n",
    "hfss.pinfo.design.set_variable('Lj', '10 nH')\n",
    "hfss.pinfo.design.set_variable('Cj', '0 fF')\n",
    "\n",
    "setup.analyze()"
   ]
  },
  {
   "cell_type": "code",
   "execution_count": null,
   "id": "b2e3b73b",
   "metadata": {},
   "outputs": [],
   "source": [
    "eig_res.sim.convergence_t, eig_res.sim.convergence_f, _ = hfss.get_convergences()\n",
    "eig_res.sim.plot_convergences()"
   ]
  },
  {
   "cell_type": "code",
   "execution_count": null,
   "id": "574cea7a",
   "metadata": {},
   "outputs": [],
   "source": [
    "hfss.disconnect_ansys()"
   ]
  },
  {
   "cell_type": "code",
   "execution_count": null,
   "id": "423b5618",
   "metadata": {},
   "outputs": [],
   "source": []
  }
 ],
 "metadata": {
  "kernelspec": {
   "display_name": "Python 3 (ipykernel)",
   "language": "python",
   "name": "python3"
  },
  "language_info": {
   "codemirror_mode": {
    "name": "ipython",
    "version": 3
   },
   "file_extension": ".py",
   "mimetype": "text/x-python",
   "name": "python",
   "nbconvert_exporter": "python",
   "pygments_lexer": "ipython3",
   "version": "3.9.6"
  }
 },
 "nbformat": 4,
 "nbformat_minor": 5
}
