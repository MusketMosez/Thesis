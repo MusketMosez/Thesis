{
 "cells": [
  {
   "cell_type": "code",
   "execution_count": null,
   "id": "c4aecb7b",
   "metadata": {},
   "outputs": [],
   "source": [
    "### Initial design of drawing a coplanar waveguide resonator \n",
    "\n",
    "\n",
    "# automatic reloading of modules when they change\n",
    "\n",
    "%load_ext autoreload\n",
    "%autoreload 2\n"
   ]
  },
  {
   "cell_type": "code",
   "execution_count": null,
   "id": "48926d31",
   "metadata": {},
   "outputs": [],
   "source": [
    "# Import statements\n",
    "\n",
    "import qiskit_metal as metal\n",
    "from qiskit_metal import designs, draw\n",
    "from qiskit_metal import MetalGUI, Dict, Headings\n",
    "import pyEPR as epr\n",
    "\n",
    "from qiskit_metal.qlibrary.terminations.launchpad_wb_coupled import LaunchpadWirebondCoupled\n",
    "from qiskit_metal.qlibrary.terminations.open_to_ground import OpenToGround\n",
    "from qiskit_metal.qlibrary.terminations.short_to_ground import ShortToGround\n",
    "from qiskit_metal.qlibrary.tlines.meandered import RouteMeander\n",
    "from qiskit_metal.qlibrary.tlines.straight_path import RouteStraight\n",
    "from qiskit_metal.qlibrary.couplers.coupled_line_tee import CoupledLineTee"
   ]
  },
  {
   "cell_type": "code",
   "execution_count": null,
   "id": "32a9a3b3",
   "metadata": {},
   "outputs": [],
   "source": [
    "# Instantiate QDesign class and initialise user interface\n",
    "\n",
    "design = designs.DesignPlanar({}, True)\n",
    "design.chips.main.size['size_x'] = '2mm'\n",
    "design.chips.main.size['size_y'] = '2mm'\n",
    "design.chips.main.size['size_z'] = '-500um'\n",
    "design.chips.main.size['sample_holder_bottom'] = '500um'\n",
    "design.chips.main.size['sample_holder_top'] = '2000um'\n",
    "\n",
    "gui = MetalGUI(design)\n",
    "# Set hfss as renderer for design\n",
    "hfss = design.renderers.hfss\n",
    "\n",
    "# Allow overwriting\n",
    "design.overwrite_enabled = True\n"
   ]
  },
  {
   "cell_type": "code",
   "execution_count": null,
   "id": "ebc2bc28",
   "metadata": {},
   "outputs": [],
   "source": []
  },
  {
   "cell_type": "code",
   "execution_count": null,
   "id": "bb7a6468",
   "metadata": {},
   "outputs": [],
   "source": [
    "# Add hanger of capacitievely coupled transmission lines\n",
    "TQ1 = CoupledLineTee(design, 'TQ1', options=dict(pos_x='0mm',\n",
    "                                                 pos_y='1.3mm',\n",
    "                                                 coupling_length='100um',\n",
    "                                                 coupling_space='3um'))\n",
    "gui.rebuild()\n",
    "gui.autoscale()"
   ]
  },
  {
   "cell_type": "code",
   "execution_count": null,
   "id": "3da5af33",
   "metadata": {},
   "outputs": [],
   "source": [
    "# Create shorted pin and open pin for resonator\n",
    "ops = dict(fillet='90um')\n",
    "otg3 = OpenToGround(design, 'open_to_ground3', options=dict(pos_x='0mm', pos_y='-1.2mm',\n",
    "orientation='270'))\n",
    "\n",
    "route_options= Dict(total_length='8mm',\n",
    "                   hfss_wire_bonds=False,\n",
    "                   pin_inputs=Dict(start_pin=Dict(component='TQ1',\n",
    "                                                 pin='second_end'),\n",
    "                                  end_pin=Dict(component=otg3.name, pin='open')),\n",
    "                   lead=Dict(start_straight='0.1mm'),\n",
    "                   **ops)\n",
    "\n",
    "# Create meandered resonator between shorted and opened pin\n",
    "rt_meander = RouteMeander(design, 'readout', options=route_options)\n",
    "\n",
    "gui.rebuild()\n",
    "gui.autoscale()\n"
   ]
  },
  {
   "cell_type": "code",
   "execution_count": null,
   "id": "ca6ee386",
   "metadata": {},
   "outputs": [],
   "source": [
    "#Setup the launchpad location and orientation.\n",
    "#launch_options1 = dict(pos_x='-500um', pos_y='0.5mm', orientation='0')\n",
    "\n",
    "#lp = LaunchpadWirebondCoupled(design, 'P4_Q', options = launch_options1)\n",
    "\n",
    "otg = OpenToGround(design, 'open_to_ground1', options=dict(pos_x='2mm', pos_y='1.3mm',\n",
    "orientation='0'))\n",
    "\n",
    "\n",
    "\n",
    "#Setup the OpenToGround location and orientation.\n",
    "#launch_options2 = dict(pos_x='0.75mm',  pos_y='0.5mm', orientation='180')\n",
    "\n",
    "#lp2 = LaunchpadWirebondCoupled(design, 'P5_Q', options = launch_options2)\n",
    "\n",
    "\n",
    "otg2 = OpenToGround(design, 'open_to_ground', options=dict(pos_x='-2mm', pos_y='1.3mm',\n",
    "orientation='180'))\n",
    "\n",
    "#After the two QComponents are added to design, connect them with a RouteMeander.\n",
    "meander_options_left = Dict(\n",
    "        pin_inputs=Dict(\n",
    "            start_pin=Dict(component='TQ1', pin='prime_start'),\n",
    "            end_pin=Dict(component=otg2.name, pin='open')), )\n",
    "\n",
    "meander_options_right = Dict(\n",
    "        pin_inputs=Dict(\n",
    "            start_pin=Dict(component='TQ1', pin='prime_end'),\n",
    "            end_pin=Dict(component=otg.name, pin='open')), )\n",
    "\n",
    "\n",
    "meander_left = RouteStraight(design, 'cpw_left',options=meander_options_left)\n",
    "meander_right = RouteStraight(design, 'cpw_right',options=meander_options_right)\n",
    "\n",
    "gui.rebuild()\n",
    "gui.autoscale()"
   ]
  },
  {
   "cell_type": "code",
   "execution_count": null,
   "id": "ef60158d",
   "metadata": {},
   "outputs": [],
   "source": [
    "\n"
   ]
  },
  {
   "cell_type": "code",
   "execution_count": null,
   "id": "c8ef1624",
   "metadata": {},
   "outputs": [],
   "source": [
    "# Screenshot the canvas only as a .png formatted file.\n",
    "#gui.figure.savefig('shot.png')\n",
    "\n",
    "#from IPython.display import Image, display\n",
    "#_disp_ops = dict(width=500)\n",
    "#display(Image('shot.png', **_disp_ops))"
   ]
  },
  {
   "cell_type": "code",
   "execution_count": null,
   "id": "cb00a813",
   "metadata": {},
   "outputs": [],
   "source": [
    "hfss.open_ansys(path = 'C:\\Program Files\\AnsysEM\\AnsysEM19.3\\Win64')"
   ]
  },
  {
   "cell_type": "code",
   "execution_count": null,
   "id": "77e745de",
   "metadata": {
    "scrolled": false
   },
   "outputs": [],
   "source": [
    "hfss.connect_ansys()"
   ]
  },
  {
   "cell_type": "code",
   "execution_count": null,
   "id": "cf41e906",
   "metadata": {
    "scrolled": true
   },
   "outputs": [],
   "source": [
    "hfss.activate_drivenmodal_design(\"S-parameter estimation\")"
   ]
  },
  {
   "cell_type": "code",
   "execution_count": null,
   "id": "03cb9e60",
   "metadata": {},
   "outputs": [],
   "source": [
    "hfss.clean_active_design()"
   ]
  },
  {
   "cell_type": "code",
   "execution_count": null,
   "id": "f82cd1dc",
   "metadata": {
    "scrolled": false
   },
   "outputs": [],
   "source": [
    "hfss.render_design([],\n",
    "                   [],\n",
    "                  [('cpw_right', 'end', 50), ('cpw_left', 'end', 50)],\n",
    "                  [],\n",
    "                  [],\n",
    "                  box_plus_buffer=False)"
   ]
  },
  {
   "cell_type": "code",
   "execution_count": null,
   "id": "ddfbc99e",
   "metadata": {},
   "outputs": [],
   "source": [
    "design._chips['main']['size']['size_x'] = '3.012mm'\n",
    "design._chips['main']['size']['size_y'] = '4mm'"
   ]
  },
  {
   "cell_type": "code",
   "execution_count": null,
   "id": "bde49f64",
   "metadata": {},
   "outputs": [],
   "source": [
    "hfss.add_sweep(setup_name=\"Setup\",\n",
    "               name=\"Sweep\",\n",
    "               start_ghz=2.0,\n",
    "               stop_ghz=6.0,\n",
    "               count=16001,\n",
    "               type=\"Interpolating\")"
   ]
  },
  {
   "cell_type": "code",
   "execution_count": null,
   "id": "04141921",
   "metadata": {},
   "outputs": [],
   "source": [
    "\n",
    "hfss.analyze_sweep('Sweep', 'Setup')"
   ]
  },
  {
   "cell_type": "code",
   "execution_count": null,
   "id": "0ba94181",
   "metadata": {
    "scrolled": true
   },
   "outputs": [],
   "source": []
  },
  {
   "cell_type": "code",
   "execution_count": null,
   "id": "cba4d5a3",
   "metadata": {
    "scrolled": true
   },
   "outputs": [],
   "source": [
    "hfss.plot_params(['S11', 'S21'])"
   ]
  },
  {
   "cell_type": "code",
   "execution_count": null,
   "id": "2240c09b",
   "metadata": {},
   "outputs": [],
   "source": [
    "hfss.disconnect_ansys()"
   ]
  },
  {
   "cell_type": "code",
   "execution_count": null,
   "id": "b8a9205d",
   "metadata": {},
   "outputs": [],
   "source": []
  }
 ],
 "metadata": {
  "kernelspec": {
   "display_name": "Python 3 (ipykernel)",
   "language": "python",
   "name": "python3"
  },
  "language_info": {
   "codemirror_mode": {
    "name": "ipython",
    "version": 3
   },
   "file_extension": ".py",
   "mimetype": "text/x-python",
   "name": "python",
   "nbconvert_exporter": "python",
   "pygments_lexer": "ipython3",
   "version": "3.9.6"
  }
 },
 "nbformat": 4,
 "nbformat_minor": 5
}
