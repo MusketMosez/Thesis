{
 "cells": [
  {
   "cell_type": "code",
   "execution_count": 1,
   "id": "42e0c9b8",
   "metadata": {},
   "outputs": [],
   "source": [
    "### Initial design of drawing a coplanar waveguide resonator \n",
    "\n",
    "\n",
    "# automatic reloading of modules when they change\n",
    "\n",
    "%load_ext autoreload\n",
    "%autoreload 2\n"
   ]
  },
  {
   "cell_type": "code",
   "execution_count": 2,
   "id": "08287bd3",
   "metadata": {},
   "outputs": [],
   "source": [
    "# Import statements\n",
    "\n",
    "import qiskit_metal as metal\n",
    "from qiskit_metal import designs, draw\n",
    "from qiskit_metal import MetalGUI, Dict, Headings\n",
    "\n",
    "from qiskit_metal.qlibrary.terminations.open_to_ground import OpenToGround\n",
    "from qiskit_metal.qlibrary.terminations.short_to_ground import ShortToGround\n",
    "from qiskit_metal.qlibrary.tlines.meandered import RouteMeander"
   ]
  },
  {
   "cell_type": "code",
   "execution_count": 3,
   "id": "4036a20c",
   "metadata": {},
   "outputs": [],
   "source": [
    "# Instantiate QDesign class and initialise user interface\n",
    "\n",
    "design = designs.DesignPlanar()\n",
    "gui = MetalGUI(design)"
   ]
  },
  {
   "cell_type": "code",
   "execution_count": 4,
   "id": "aa86dd4e",
   "metadata": {},
   "outputs": [],
   "source": [
    "# Allow overwriting\n",
    "\n",
    "design.overwrite_enabled = True"
   ]
  },
  {
   "cell_type": "code",
   "execution_count": 54,
   "id": "43eec465",
   "metadata": {},
   "outputs": [],
   "source": [
    "otg = OpenToGround(design, 'open_to_ground', options=dict(pos_x='0um', pos_y='0.9mm',\n",
    "orientation='180'))\n",
    "stg = ShortToGround(design, 'short_to_ground', options=dict(pos_x='0um', pos_y='-1.25mm',\n",
    "orientation='270')) \n",
    "\n",
    "from collections import OrderedDict\n",
    "jogs = OrderedDict()\n",
    "jogs[0] = [\"L\", '125um']\n",
    "#jogs[1] = [\"L\", '500um']\n",
    "jogs[1] = [\"R\", '100um']\n",
    "#jogs[3] = [\"R\", '125um']\n",
    "\n",
    "rt_meander = RouteMeander(design, 'readout', Dict(\n",
    "        total_length='4 mm',\n",
    "        hfss_wire_bonds = True,\n",
    "        #fillet='90 um',\n",
    "        lead = Dict(\n",
    "        start_straight='0.2mm',\n",
    "        end_straight='0mm',\n",
    "        end_jogged_extension=jogs),\n",
    "        pin_inputs=Dict(\n",
    "            start_pin=Dict(component='short_to_ground', pin='short'),\n",
    "            end_pin=Dict(component='open_to_ground', pin='open')), ))\n",
    "\n",
    "gui.rebuild()\n",
    "gui.autoscale()\n"
   ]
  },
  {
   "cell_type": "code",
   "execution_count": 10,
   "id": "8a6eb8ab",
   "metadata": {},
   "outputs": [],
   "source": [
    "import qiskit_metal\n",
    "qiskit_metal.open_docs()"
   ]
  },
  {
   "cell_type": "code",
   "execution_count": null,
   "id": "7db1df5f",
   "metadata": {},
   "outputs": [],
   "source": []
  }
 ],
 "metadata": {
  "kernelspec": {
   "display_name": "Python 3",
   "language": "python",
   "name": "python3"
  },
  "language_info": {
   "codemirror_mode": {
    "name": "ipython",
    "version": 3
   },
   "file_extension": ".py",
   "mimetype": "text/x-python",
   "name": "python",
   "nbconvert_exporter": "python",
   "pygments_lexer": "ipython3",
   "version": "3.8.10"
  }
 },
 "nbformat": 4,
 "nbformat_minor": 5
}
