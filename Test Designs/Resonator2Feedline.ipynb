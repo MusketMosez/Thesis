{
 "cells": [
  {
   "cell_type": "code",
   "execution_count": null,
   "metadata": {},
   "outputs": [],
   "source": [
    "### Initial design of drawing a coplanar waveguide resonator \n",
    "\n",
    "\n",
    "# automatic reloading of modules when they change\n",
    "\n",
    "%load_ext autoreload\n",
    "%autoreload 2\n"
   ]
  },
  {
   "cell_type": "code",
   "execution_count": null,
   "metadata": {},
   "outputs": [],
   "source": [
    "# Import statements\n",
    "\n",
    "import qiskit_metal as metal\n",
    "from qiskit_metal import designs, draw\n",
    "from qiskit_metal import MetalGUI, Dict, Headings\n",
    "import pyEPR as epr\n",
    "\n",
    "from qiskit_metal.qlibrary.terminations.launchpad_wb_coupled import LaunchpadWirebondCoupled\n",
    "from qiskit_metal.qlibrary.terminations.open_to_ground import OpenToGround\n",
    "from qiskit_metal.qlibrary.terminations.short_to_ground import ShortToGround\n",
    "from qiskit_metal.qlibrary.tlines.meandered import RouteMeander\n",
    "from qiskit_metal.qlibrary.tlines.straight_path import RouteStraight"
   ]
  },
  {
   "cell_type": "code",
   "execution_count": null,
   "metadata": {},
   "outputs": [],
   "source": [
    "# Instantiate QDesign class and initialise user interface\n",
    "\n",
    "design = designs.DesignPlanar({}, True)\n",
    "design.chips.main.size['size_x'] = '2mm'\n",
    "design.chips.main.size['size_y'] = '2mm'\n",
    "design.chips.main.size['size_z'] = '-500um'\n",
    "design.chips.main.size['sample_holder_bottom'] = '500um'\n",
    "design.chips.main.size['sample_holder_top'] = '2000um'\n",
    "\n",
    "\n",
    "# Set hfss as renderer for design\n",
    "hfss = design.renderers.hfss"
   ]
  },
  {
   "cell_type": "code",
   "execution_count": null,
   "metadata": {},
   "outputs": [],
   "source": [
    "# Allow overwriting\n",
    "gui = MetalGUI(design)\n",
    "design.overwrite_enabled = True\n",
    "design.chips.main\n",
    "#hfss.default_options"
   ]
  },
  {
   "cell_type": "code",
   "execution_count": null,
   "metadata": {},
   "outputs": [],
   "source": [
    "# Create shorted pin and open pin for resonator\n",
    "\n",
    "otg1 = OpenToGround(design, 'open_to_ground1', options=dict(pos_x='0um', pos_y='-1.25mm',\n",
    "orientation='180'))\n",
    "stg = ShortToGround(design, 'short_to_ground', options=dict(pos_x='0um', pos_y='0.5mm',\n",
    "orientation='270')) \n",
    "\n",
    "\n",
    "# Jogs to allow bending of open end of CPW\n",
    "# So far does not render in hfss\n",
    "from collections import OrderedDict\n",
    "jogs = OrderedDict()\n",
    "jogs[0] = [\"L\", '125um']\n",
    "jogs[1] = [\"R\", '100um']\n",
    "#jogs[2] = [\"L\", '100um']\n",
    "\n",
    "jogs2 = OrderedDict()\n",
    "jogs2[0] = [\"R\", '100um']\n",
    "jogs2[1] = [\"L\", '110um' ]\n",
    "\n",
    "# Create meandered resonator between shorted and opened pin\n",
    "rt_meander = RouteMeander(design, 'readout', Dict(\n",
    "        total_length='3 mm',\n",
    "        hfss_wire_bonds = False,\n",
    "        fillet='80 um',\n",
    "        lead = Dict(\n",
    "        start_straight='0.1mm',\n",
    "        end_straight='0mm'),\n",
    "        #start_jogged_extensions=jogs2,\n",
    "        #end_jogged_extension=jogs),\n",
    "        meander=Dict(\n",
    "        spacing = '200um'),\n",
    "        pin_inputs=Dict(\n",
    "            start_pin=Dict(component='short_to_ground', pin='short'),\n",
    "            end_pin=Dict(component='open_to_ground1', pin='open')), ))\n",
    "\n",
    "gui.rebuild()\n",
    "#gui.autoscale()\n"
   ]
  },
  {
   "cell_type": "code",
   "execution_count": null,
   "metadata": {},
   "outputs": [],
   "source": [
    "#Setup the launchpad location and orientation.\n",
    "launch_options1 = dict(pos_x='-500um', pos_y='0.64mm', orientation='0')\n",
    "\n",
    "lp = LaunchpadWirebondCoupled(design, 'P4_Q', options = launch_options1)\n",
    "\n",
    "#stg = ShortToGround(design, 'short_to_ground',dict(pos_x='-500um', pos_y='1mm', orientation='0')) \n",
    "\n",
    "\n",
    "#Setup the OpenToGround location and orientation.\n",
    "launch_options2 = dict(pos_x='0.75mm',  pos_y='0.64mm', orientation='180')\n",
    "\n",
    "lp2 = LaunchpadWirebondCoupled(design, 'P5_Q', options = launch_options2)\n",
    "\n",
    "\n",
    "#otg = OpenToGround(design, 'open_to_ground', options=dict(pos_x='0.75mm', pos_y='0.64mm',\n",
    "#orientation='180'))\n",
    "\n",
    "#After the two QComponents are added to design, connect them with a RouteMeander.\n",
    "meander_options = Dict(\n",
    "        total_length='1.25 mm',\n",
    "        #fillet='200 um',\n",
    "        #lead = dict(start_straight='100um', end_straight='100um'),\n",
    "       # meander=Dict(\n",
    "        #spacing = '600um'),\n",
    "        pin_inputs=Dict(\n",
    "            start_pin=Dict(component=lp.name, pin='tie'),\n",
    "            end_pin=Dict(component=lp2.name, pin='tie')), )\n",
    "\n",
    "meander = RouteStraight(design, 'feed',options=meander_options)\n",
    "\n",
    "gui.rebuild()\n",
    "gui.autoscale()"
   ]
  },
  {
   "cell_type": "code",
   "execution_count": null,
   "metadata": {},
   "outputs": [],
   "source": [
    "\n"
   ]
  },
  {
   "cell_type": "code",
   "execution_count": null,
   "metadata": {},
   "outputs": [],
   "source": [
    "# Screenshot the canvas only as a .png formatted file.\n",
    "#gui.figure.savefig('shot.png')\n",
    "\n",
    "#from IPython.display import Image, display\n",
    "#_disp_ops = dict(width=500)\n",
    "#display(Image('shot.png', **_disp_ops))"
   ]
  },
  {
   "cell_type": "code",
   "execution_count": null,
   "metadata": {},
   "outputs": [],
   "source": [
    "hfss.open_ansys(path = 'C:\\Program Files\\AnsysEM\\AnsysEM19.3\\Win64')"
   ]
  },
  {
   "cell_type": "code",
   "execution_count": null,
   "metadata": {
    "scrolled": true
   },
   "outputs": [],
   "source": [
    "hfss.connect_ansys()"
   ]
  },
  {
   "cell_type": "code",
   "execution_count": null,
   "metadata": {
    "scrolled": true
   },
   "outputs": [],
   "source": [
    "hfss.activate_eigenmode_design(\"Readout\")"
   ]
  },
  {
   "cell_type": "code",
   "execution_count": null,
   "metadata": {},
   "outputs": [],
   "source": [
    "#hfss.render_design(['short_to_ground', 'readout', 'open_to_ground1', lp.name, lp2.name, 'feed'], [])\n",
    "hfss.render_design([stg.name, otg1.name, 'readout'],[]) #, lp.name, lp2.name, 'feed'], [])\n",
    "#hfss.save_screenshot()"
   ]
  },
  {
   "cell_type": "code",
   "execution_count": null,
   "metadata": {},
   "outputs": [],
   "source": [
    "design._chips['main']['size']['size_y'] = '3mm'"
   ]
  },
  {
   "cell_type": "code",
   "execution_count": null,
   "metadata": {},
   "outputs": [],
   "source": [
    "hfss.clean_active_design()\n",
    "#hfss.render_design([], [], box_plus_buffer=False)"
   ]
  },
  {
   "cell_type": "code",
   "execution_count": null,
   "metadata": {},
   "outputs": [],
   "source": [
    "hfss.subtract_from_ground()"
   ]
  },
  {
   "cell_type": "code",
   "execution_count": null,
   "metadata": {},
   "outputs": [],
   "source": [
    "\n",
    "setup = hfss.pinfo.setup\n",
    "setup.passes = 20\n",
    "print(f\"\"\"\n",
    "Number of eigenmodes to find             = {setup.n_modes}\n",
    "Number of simulation passes              = {setup.passes}\n",
    "Convergence freq max delta percent diff  = {setup.delta_f}\n",
    "\"\"\")\n",
    "\n",
    "pinfo = hfss.pinfo\n",
    "pinfo.design.set_variable('Lj', '10 nH')\n",
    "pinfo.design.set_variable('Cj', '0 fF')\n",
    "setup.analyze()\n",
    "\n",
    "hfss.plot_convergences()"
   ]
  },
  {
   "cell_type": "code",
   "execution_count": null,
   "metadata": {},
   "outputs": [],
   "source": [
    "hfss.disconnect_ansys()"
   ]
  },
  {
   "cell_type": "code",
   "execution_count": null,
   "metadata": {},
   "outputs": [],
   "source": []
  }
 ],
 "metadata": {
  "kernelspec": {
   "display_name": "Python 3",
   "language": "python",
   "name": "python3"
  },
  "language_info": {
   "codemirror_mode": {
    "name": "ipython",
    "version": 3
   },
   "file_extension": ".py",
   "mimetype": "text/x-python",
   "name": "python",
   "nbconvert_exporter": "python",
   "pygments_lexer": "ipython3",
   "version": "3.8.5"
  }
 },
 "nbformat": 4,
 "nbformat_minor": 5
}
