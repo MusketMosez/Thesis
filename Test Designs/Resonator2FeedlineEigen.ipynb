{
 "cells": [
  {
   "cell_type": "code",
   "execution_count": 1,
   "id": "c4aecb7b",
   "metadata": {},
   "outputs": [],
   "source": [
    "### Initial design of drawing a coplanar waveguide resonator \n",
    "\n",
    "\n",
    "# automatic reloading of modules when they change\n",
    "\n",
    "%load_ext autoreload\n",
    "%autoreload 2\n"
   ]
  },
  {
   "cell_type": "code",
   "execution_count": 2,
   "id": "48926d31",
   "metadata": {},
   "outputs": [],
   "source": [
    "# Import statements\n",
    "\n",
    "import qiskit_metal as metal\n",
    "from qiskit_metal import designs, draw\n",
    "from qiskit_metal import MetalGUI, Dict, Headings\n",
    "import pyEPR as epr\n",
    "\n",
    "from qiskit_metal.qlibrary.terminations.launchpad_wb_coupled import LaunchpadWirebondCoupled\n",
    "from qiskit_metal.qlibrary.terminations.open_to_ground import OpenToGround\n",
    "from qiskit_metal.qlibrary.terminations.short_to_ground import ShortToGround\n",
    "from qiskit_metal.qlibrary.tlines.meandered import RouteMeander\n",
    "from qiskit_metal.qlibrary.tlines.straight_path import RouteStraight"
   ]
  },
  {
   "cell_type": "code",
   "execution_count": 3,
   "id": "32a9a3b3",
   "metadata": {},
   "outputs": [],
   "source": [
    "# Instantiate QDesign class and initialise user interface\n",
    "\n",
    "design = designs.DesignPlanar({}, True)\n",
    "design.chips.main.size['size_x'] = '2mm'\n",
    "design.chips.main.size['size_y'] = '2mm'\n",
    "design.chips.main.size['size_z'] = '-500um'\n",
    "design.chips.main.size['sample_holder_bottom'] = '500um'\n",
    "design.chips.main.size['sample_holder_top'] = '2000um'\n",
    "\n",
    "\n",
    "# Set hfss as renderer for design\n",
    "hfss = design.renderers.hfss"
   ]
  },
  {
   "cell_type": "code",
   "execution_count": 4,
   "id": "ebc2bc28",
   "metadata": {},
   "outputs": [
    {
     "data": {
      "text/plain": [
       "{'material': 'silicon',\n",
       " 'layer_start': '0',\n",
       " 'layer_end': '2048',\n",
       " 'size': {'center_x': '0.0mm',\n",
       "  'center_y': '0.0mm',\n",
       "  'center_z': '0.0mm',\n",
       "  'size_x': '2mm',\n",
       "  'size_y': '2mm',\n",
       "  'size_z': '-500um',\n",
       "  'sample_holder_top': '2000um',\n",
       "  'sample_holder_bottom': '500um'}}"
      ]
     },
     "execution_count": 4,
     "metadata": {},
     "output_type": "execute_result"
    }
   ],
   "source": [
    "# Allow overwriting\n",
    "gui = MetalGUI(design)\n",
    "design.overwrite_enabled = True\n",
    "design.chips.main\n",
    "#hfss.default_options"
   ]
  },
  {
   "cell_type": "code",
   "execution_count": 5,
   "id": "3da5af33",
   "metadata": {},
   "outputs": [],
   "source": [
    "# Create shorted pin and open pin for resonator\n",
    "\n",
    "otg1 = OpenToGround(design, 'open_to_ground1', options=dict(pos_x='0um', pos_y='-1.25mm',\n",
    "orientation='180'))\n",
    "stg = ShortToGround(design, 'short_to_ground', options=dict(pos_x='0um', pos_y='0.5mm',\n",
    "orientation='270')) \n",
    "\n",
    "\n",
    "# Jogs to allow bending of open end of CPW\n",
    "# So far does not render in hfss\n",
    "from collections import OrderedDict\n",
    "jogs = OrderedDict()\n",
    "jogs[0] = [\"L\", '125um']\n",
    "jogs[1] = [\"R\", '100um']\n",
    "#jogs[2] = [\"L\", '100um']\n",
    "\n",
    "jogs2 = OrderedDict()\n",
    "jogs2[0] = [\"R\", '100um']\n",
    "jogs2[1] = [\"L\", '110um' ]\n",
    "\n",
    "# Create meandered resonator between shorted and opened pin\n",
    "rt_meander = RouteMeander(design, 'readout', Dict(\n",
    "        total_length='8 mm',\n",
    "        hfss_wire_bonds = False,\n",
    "        fillet='70 um',\n",
    "        lead = Dict(\n",
    "        start_straight='0.1mm',\n",
    "        end_straight='0mm'),\n",
    "        #start_jogged_extensions=jogs2,\n",
    "        #end_jogged_extension=jogs),\n",
    "        meander=Dict(\n",
    "        spacing = '150um'),\n",
    "        pin_inputs=Dict(\n",
    "            start_pin=Dict(component='short_to_ground', pin='short'),\n",
    "            end_pin=Dict(component='open_to_ground1', pin='open')), ))\n",
    "\n",
    "gui.rebuild()\n",
    "gui.autoscale()\n"
   ]
  },
  {
   "cell_type": "code",
   "execution_count": 6,
   "id": "ca6ee386",
   "metadata": {},
   "outputs": [],
   "source": [
    "#Setup the launchpad location and orientation.\n",
    "launch_options1 = dict(pos_x='-750um', pos_y='0.64mm', orientation='0')\n",
    "\n",
    "lp = LaunchpadWirebondCoupled(design, 'P4_Q', options = launch_options1)\n",
    "\n",
    "#stg = ShortToGround(design, 'short_to_ground',dict(pos_x='-500um', pos_y='1mm', orientation='0')) \n",
    "\n",
    "\n",
    "#Setup the OpenToGround location and orientation.\n",
    "launch_options2 = dict(pos_x='0.75mm',  pos_y='0.64mm', orientation='180')\n",
    "\n",
    "lp2 = LaunchpadWirebondCoupled(design, 'P5_Q', options = launch_options2)\n",
    "\n",
    "\n",
    "#otg = OpenToGround(design, 'open_to_ground', options=dict(pos_x='0.75mm', pos_y='0.64mm',\n",
    "#orientation='180'))\n",
    "\n",
    "#After the two QComponents are added to design, connect them with a RouteMeander.\n",
    "meander_options = Dict(\n",
    "        total_length='1.5 mm',\n",
    "        #fillet='200 um',\n",
    "        #lead = dict(start_straight='100um', end_straight='100um'),\n",
    "       # meander=Dict(\n",
    "        #spacing = '600um'),\n",
    "        pin_inputs=Dict(\n",
    "            start_pin=Dict(component=lp.name, pin='tie'),\n",
    "            end_pin=Dict(component=lp2.name, pin='tie')), )\n",
    "\n",
    "meander = RouteStraight(design, 'feed',options=meander_options)\n",
    "\n",
    "gui.rebuild()\n",
    "gui.autoscale()"
   ]
  },
  {
   "cell_type": "code",
   "execution_count": null,
   "id": "ef60158d",
   "metadata": {},
   "outputs": [],
   "source": [
    "\n"
   ]
  },
  {
   "cell_type": "code",
   "execution_count": null,
   "id": "c8ef1624",
   "metadata": {},
   "outputs": [],
   "source": [
    "# Screenshot the canvas only as a .png formatted file.\n",
    "#gui.figure.savefig('shot.png')\n",
    "\n",
    "#from IPython.display import Image, display\n",
    "#_disp_ops = dict(width=500)\n",
    "#display(Image('shot.png', **_disp_ops))"
   ]
  },
  {
   "cell_type": "code",
   "execution_count": 7,
   "id": "cb00a813",
   "metadata": {},
   "outputs": [],
   "source": [
    "hfss.open_ansys(path = 'C:\\Program Files\\AnsysEM\\AnsysEM19.3\\Win64')"
   ]
  },
  {
   "cell_type": "code",
   "execution_count": 8,
   "id": "77e745de",
   "metadata": {
    "scrolled": true
   },
   "outputs": [
    {
     "name": "stderr",
     "output_type": "stream",
     "text": [
      "INFO 02:37PM [connect_project]: Connecting to Ansys Desktop API...\n",
      "INFO 02:37PM [load_ansys_project]: \tOpened Ansys App\n",
      "INFO 02:37PM [load_ansys_project]: \tOpened Ansys Desktop v2019.1.0\n",
      "INFO 02:37PM [load_ansys_project]: \tOpened Ansys Project\n",
      "\tFolder:    C:/Users/2254729M/Documents/Ansoft/\n",
      "\tProject:   Project5\n",
      "INFO 02:37PM [connect_design]: No active design found (or error getting active design).\n",
      "INFO 02:37PM [connect]: \t Connected to project \"Project5\". No design detected\n"
     ]
    }
   ],
   "source": [
    "hfss.connect_ansys()"
   ]
  },
  {
   "cell_type": "code",
   "execution_count": 9,
   "id": "cf41e906",
   "metadata": {
    "scrolled": true
   },
   "outputs": [
    {
     "name": "stderr",
     "output_type": "stream",
     "text": [
      "02:37PM 48s WARNING [activate_eigenmode_design]: The name=Readout was not in active project.  A new design will be inserted to the project.  Names in active project are: \n",
      "[].  \n",
      "INFO 02:37PM [connect_design]: \tOpened active design\n",
      "\tDesign:    Readout [Solution type: Eigenmode]\n",
      "WARNING 02:37PM [connect_setup]: \tNo design setup detected.\n",
      "WARNING 02:37PM [connect_setup]: \tCreating eigenmode default setup.\n",
      "INFO 02:37PM [get_setup]: \tOpened setup `Setup`  (<class 'pyEPR.ansys.HfssEMSetup'>)\n"
     ]
    }
   ],
   "source": [
    "hfss.activate_eigenmode_design(\"Readout\")"
   ]
  },
  {
   "cell_type": "code",
   "execution_count": 10,
   "id": "f82cd1dc",
   "metadata": {},
   "outputs": [],
   "source": [
    "#hfss.render_design(['short_to_ground', 'readout', 'open_to_ground1', lp.name, lp2.name, 'feed'], [])\n",
    "hfss.render_design([stg.name, otg1.name, 'readout'],[]) #, lp.name, lp2.name, 'feed'], [])\n",
    "#hfss.save_screenshot()"
   ]
  },
  {
   "cell_type": "code",
   "execution_count": null,
   "id": "ddfbc99e",
   "metadata": {},
   "outputs": [],
   "source": [
    "design._chips['main']['size']['size_y'] = '3mm'"
   ]
  },
  {
   "cell_type": "code",
   "execution_count": null,
   "id": "99d3a13d",
   "metadata": {},
   "outputs": [],
   "source": [
    "hfss.clean_active_design()\n",
    "#hfss.render_design([], [], box_plus_buffer=False)"
   ]
  },
  {
   "cell_type": "code",
   "execution_count": null,
   "id": "bde49f64",
   "metadata": {},
   "outputs": [],
   "source": [
    "hfss.subtract_from_ground()"
   ]
  },
  {
   "cell_type": "code",
   "execution_count": 11,
   "id": "04141921",
   "metadata": {},
   "outputs": [
    {
     "name": "stderr",
     "output_type": "stream",
     "text": [
      "INFO 02:37PM [analyze]: Analyzing setup Setup\n"
     ]
    },
    {
     "name": "stdout",
     "output_type": "stream",
     "text": [
      "\n",
      "Number of eigenmodes to find             = 1\n",
      "Number of simulation passes              = 20\n",
      "Convergence freq max delta percent diff  = 0.1\n",
      "\n"
     ]
    },
    {
     "name": "stderr",
     "output_type": "stream",
     "text": [
      "02:41PM 28s INFO [hfss_report_f_convergence]: Saved convergences to C:\\Users\\2254729M\\OneDrive - University of Glasgow\\Documents\\workspace\\Thesis\\Test Designs\\hfss_eig_f_convergence.csv\n"
     ]
    }
   ],
   "source": [
    "\n",
    "setup = hfss.pinfo.setup\n",
    "setup.passes = 20\n",
    "print(f\"\"\"\n",
    "Number of eigenmodes to find             = {setup.n_modes}\n",
    "Number of simulation passes              = {setup.passes}\n",
    "Convergence freq max delta percent diff  = {setup.delta_f}\n",
    "\"\"\")\n",
    "\n",
    "pinfo = hfss.pinfo\n",
    "pinfo.design.set_variable('Lj', '10 nH')\n",
    "pinfo.design.set_variable('Cj', '0 fF')\n",
    "setup.analyze()\n",
    "\n",
    "hfss.plot_convergences()"
   ]
  },
  {
   "cell_type": "code",
   "execution_count": null,
   "id": "2240c09b",
   "metadata": {},
   "outputs": [],
   "source": [
    "hfss.disconnect_ansys()"
   ]
  },
  {
   "cell_type": "code",
   "execution_count": null,
   "id": "b8a9205d",
   "metadata": {},
   "outputs": [],
   "source": []
  }
 ],
 "metadata": {
  "kernelspec": {
   "display_name": "Python 3 (ipykernel)",
   "language": "python",
   "name": "python3"
  },
  "language_info": {
   "codemirror_mode": {
    "name": "ipython",
    "version": 3
   },
   "file_extension": ".py",
   "mimetype": "text/x-python",
   "name": "python",
   "nbconvert_exporter": "python",
   "pygments_lexer": "ipython3",
   "version": "3.9.6"
  }
 },
 "nbformat": 4,
 "nbformat_minor": 5
}
