{
 "cells": [
  {
   "cell_type": "code",
   "execution_count": null,
   "id": "50454386",
   "metadata": {},
   "outputs": [],
   "source": [
    "### Design With 4-Qubits and resonators\n",
    "\n",
    "# automatic reloading of modules when they change\n",
    "\n",
    "%load_ext autoreload\n",
    "%autoreload 2"
   ]
  },
  {
   "cell_type": "code",
   "execution_count": null,
   "id": "35b56ec6",
   "metadata": {},
   "outputs": [],
   "source": [
    "# Import statements\n",
    "\n",
    "import qiskit_metal as metal\n",
    "from qiskit_metal import designs, draw\n",
    "from qiskit_metal import MetalGUI, Dict, Headings\n",
    "import pyEPR as epr\n",
    "\n",
    "from qiskit_metal.qlibrary.terminations.launchpad_wb_coupled import LaunchpadWirebondCoupled\n",
    "from qiskit_metal.qlibrary.terminations.open_to_ground import OpenToGround\n",
    "from qiskit_metal.qlibrary.terminations.short_to_ground import ShortToGround\n",
    "from qiskit_metal.qlibrary.tlines.meandered import RouteMeander\n",
    "from qiskit_metal.qlibrary.tlines.straight_path import RouteStraight\n",
    "from qiskit_metal.qlibrary.couplers.coupled_line_tee import CoupledLineTee\n"
   ]
  },
  {
   "cell_type": "code",
   "execution_count": null,
   "id": "df6f4a31",
   "metadata": {},
   "outputs": [],
   "source": [
    "# Instantiate QDesign class and initialise user interface\n",
    "\n",
    "design = designs.DesignPlanar({}, True)\n",
    "design.chips.main.size['size_x'] = '2mm'\n",
    "design.chips.main.size['size_y'] = '2mm'\n",
    "design.chips.main.size['size_z'] = '-500um'\n",
    "design.chips.main.size['sample_holder_bottom'] = '500um'\n",
    "design.chips.main.size['sample_holder_top'] = '2000um'\n",
    "\n",
    "gui = MetalGUI(design)\n",
    "# Set hfss as renderer for design\n",
    "hfss = design.renderers.hfss\n",
    "\n",
    "# Allow overwriting\n",
    "design.overwrite_enabled = True"
   ]
  },
  {
   "cell_type": "code",
   "execution_count": null,
   "id": "d776b222",
   "metadata": {},
   "outputs": [],
   "source": [
    "#Setup the launchpad G1 and the open end (To be replaced by )\n",
    "launch_options1 = dict(pos_x='0um', pos_y='1.5mm', orientation='270')\n",
    "\n",
    "lp = LaunchpadWirebondCoupled(design, 'G1', options = launch_options1)\n",
    "\n",
    "otg1 = OpenToGround(design, 'open_to_ground1', options=dict(pos_x='0um', pos_y='-0.545mm',\n",
    "orientation='180'))\n",
    "gui.rebuild()\n",
    "gui.autoscale()"
   ]
  },
  {
   "cell_type": "code",
   "execution_count": null,
   "id": "a84d97d2",
   "metadata": {},
   "outputs": [],
   "source": [
    "#Resonator to connect G1 to qubit\n",
    "meander_options = Dict(\n",
    "        total_length='1.545 mm',\n",
    "        pin_inputs=Dict(\n",
    "            start_pin=Dict(component=lp.name, pin='tie'),\n",
    "            end_pin=Dict(component=otg1.name, pin='open')), )\n",
    "\n",
    "\n",
    "meander = RouteStraight(design, 'G1_line',options=meander_options)\n",
    "gui.rebuild()\n",
    "gui.autoscale()"
   ]
  },
  {
   "cell_type": "code",
   "execution_count": null,
   "id": "5fc0d54c",
   "metadata": {},
   "outputs": [],
   "source": [
    "#Setup the launchpad G1 and the open end (To be replaced by )\n",
    "launch_options1 = dict(pos_x='0um', pos_y='1.5mm', orientation='270')\n",
    "\n",
    "lp = LaunchpadWirebondCoupled(design, 'G1', options = launch_options1)\n",
    "\n",
    "otg1 = OpenToGround(design, 'open_to_ground1', options=dict(pos_x='0um', pos_y='-0.545mm',\n",
    "orientation='90'))\n",
    "gui.rebuild()\n",
    "gui.autoscale()"
   ]
  },
  {
   "cell_type": "code",
   "execution_count": null,
   "id": "f2de111d",
   "metadata": {},
   "outputs": [],
   "source": [
    "#Setup the launchpad FB1 and the open end (To be replaced by )\n",
    "launch_options2 = dict(pos_x='-2200um', pos_y='1.5mm', orientation='270')\n",
    "\n",
    "lp2 = LaunchpadWirebondCoupled(design, 'FB-1', options = launch_options2)\n",
    "\n",
    "otg2 = OpenToGround(design, 'open_to_ground2', options=dict(pos_x='-320um', pos_y='-0.865mm',\n",
    "orientation='180'))\n",
    "gui.rebuild()\n",
    "gui.autoscale()"
   ]
  },
  {
   "cell_type": "code",
   "execution_count": null,
   "id": "6e4f8014",
   "metadata": {},
   "outputs": [],
   "source": []
  }
 ],
 "metadata": {
  "kernelspec": {
   "display_name": "Python 3",
   "language": "python",
   "name": "python3"
  },
  "language_info": {
   "codemirror_mode": {
    "name": "ipython",
    "version": 3
   },
   "file_extension": ".py",
   "mimetype": "text/x-python",
   "name": "python",
   "nbconvert_exporter": "python",
   "pygments_lexer": "ipython3",
   "version": "3.8.10"
  }
 },
 "nbformat": 4,
 "nbformat_minor": 5
}
